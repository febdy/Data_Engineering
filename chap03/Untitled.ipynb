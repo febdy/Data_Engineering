{
 "cells": [
  {
   "cell_type": "code",
   "execution_count": 1,
   "metadata": {},
   "outputs": [],
   "source": [
    "from bs4 import BeautifulSoup\n",
    "from urllib.request import urlopen"
   ]
  },
  {
   "cell_type": "code",
   "execution_count": 41,
   "metadata": {},
   "outputs": [],
   "source": [
    "melon_180314 = []\n",
    "\n",
    "for i in range(18, 20):\n",
    "    page = urlopen('https://www.melon.com/chart/index.htm?dayTime=20180314' + str(i))\n",
    "    soup = BeautifulSoup(page, 'html.parser')\n",
    "    song_list = soup.find(id='tb_list').tbody.find_all('tr')\n",
    "    \n",
    "    melon_each_time = []\n",
    "\n",
    "    for song in song_list:\n",
    "\n",
    "        rank = song.find(class_ = 'rank').text\n",
    "        updown = song.find(class_ = 'rank_wrap').text.split('\\n')[2]    \n",
    "        title = song.find('div', class_='rank01').a.text\n",
    "        singer = song.find('div', class_='rank02').a.text\n",
    "        album_name = song.find(class_='rank03').a.text\n",
    "\n",
    "        song_num = song['data-song-no']\n",
    "        url = 'https://www.melon.com/song/detail.htm?songId=' + song_num\n",
    "        song_page = urlopen(url)\n",
    "        soup = BeautifulSoup(song_page, 'html.parser')\n",
    "        release_date = soup.find(class_ = 'list').find_all('dd')[1].text\n",
    "\n",
    "        if updown == \"\" :\n",
    "            updown = 0\n",
    "\n",
    "        melon_each_time.append([int(rank), abs(int(updown)), title, singer, album_name, release_date])\n",
    "\n",
    "    melon_180314.append(melon_each_time)"
   ]
  },
  {
   "cell_type": "code",
   "execution_count": 42,
   "metadata": {},
   "outputs": [],
   "source": [
    "import pandas as pd\n",
    "\n",
    "for i in range(0, 2) :\n",
    "    df = pd.DataFrame(melon_180314[i], columns=['순위', '변동폭', '제목', '가수', '앨범명', '발매일'])\n",
    "    df.to_csv('../../data/melon_1803140'+ str(i) +'.csv', sep=',', encoding='utf-8', index=False)"
   ]
  },
  {
   "cell_type": "code",
   "execution_count": 44,
   "metadata": {
    "scrolled": true
   },
   "outputs": [
    {
     "data": {
      "text/html": [
       "<div>\n",
       "<style scoped>\n",
       "    .dataframe tbody tr th:only-of-type {\n",
       "        vertical-align: middle;\n",
       "    }\n",
       "\n",
       "    .dataframe tbody tr th {\n",
       "        vertical-align: top;\n",
       "    }\n",
       "\n",
       "    .dataframe thead th {\n",
       "        text-align: right;\n",
       "    }\n",
       "</style>\n",
       "<table border=\"1\" class=\"dataframe\">\n",
       "  <thead>\n",
       "    <tr style=\"text-align: right;\">\n",
       "      <th></th>\n",
       "      <th>순위</th>\n",
       "      <th>변동폭</th>\n",
       "      <th>제목</th>\n",
       "      <th>가수</th>\n",
       "      <th>앨범명</th>\n",
       "      <th>발매일</th>\n",
       "    </tr>\n",
       "  </thead>\n",
       "  <tbody>\n",
       "    <tr>\n",
       "      <th>0</th>\n",
       "      <td>1</td>\n",
       "      <td>0</td>\n",
       "      <td>꽃 길</td>\n",
       "      <td>BIGBANG</td>\n",
       "      <td>꽃 길</td>\n",
       "      <td>2018.03.13</td>\n",
       "    </tr>\n",
       "    <tr>\n",
       "      <th>1</th>\n",
       "      <td>2</td>\n",
       "      <td>0</td>\n",
       "      <td>별이 빛나는 밤</td>\n",
       "      <td>마마무</td>\n",
       "      <td>Yellow Flower</td>\n",
       "      <td>2018.03.07</td>\n",
       "    </tr>\n",
       "    <tr>\n",
       "      <th>2</th>\n",
       "      <td>3</td>\n",
       "      <td>0</td>\n",
       "      <td>Jenga (Feat. Gaeko)</td>\n",
       "      <td>헤이즈 (Heize)</td>\n",
       "      <td>바람</td>\n",
       "      <td>2018.03.08</td>\n",
       "    </tr>\n",
       "    <tr>\n",
       "      <th>3</th>\n",
       "      <td>4</td>\n",
       "      <td>0</td>\n",
       "      <td>사랑을 했다 (LOVE SCENARIO)</td>\n",
       "      <td>iKON</td>\n",
       "      <td>Return</td>\n",
       "      <td>2018.01.25</td>\n",
       "    </tr>\n",
       "    <tr>\n",
       "      <th>4</th>\n",
       "      <td>5</td>\n",
       "      <td>0</td>\n",
       "      <td>뿜뿜</td>\n",
       "      <td>모모랜드 (MOMOLAND)</td>\n",
       "      <td>GREAT!</td>\n",
       "      <td>2018.01.03</td>\n",
       "    </tr>\n",
       "  </tbody>\n",
       "</table>\n",
       "</div>"
      ],
      "text/plain": [
       "   순위  변동폭                      제목               가수            앨범명         발매일\n",
       "0   1    0                     꽃 길          BIGBANG            꽃 길  2018.03.13\n",
       "1   2    0                별이 빛나는 밤              마마무  Yellow Flower  2018.03.07\n",
       "2   3    0     Jenga (Feat. Gaeko)      헤이즈 (Heize)             바람  2018.03.08\n",
       "3   4    0  사랑을 했다 (LOVE SCENARIO)             iKON         Return  2018.01.25\n",
       "4   5    0                      뿜뿜  모모랜드 (MOMOLAND)         GREAT!  2018.01.03"
      ]
     },
     "execution_count": 44,
     "metadata": {},
     "output_type": "execute_result"
    }
   ],
   "source": [
    "load_melon = pd.read_csv('../../data/melon_18031406.csv', thousands=',', encoding='utf-8')\n",
    "load_melon.head()"
   ]
  },
  {
   "cell_type": "code",
   "execution_count": null,
   "metadata": {},
   "outputs": [],
   "source": []
  }
 ],
 "metadata": {
  "kernelspec": {
   "display_name": "Python 3",
   "language": "python",
   "name": "python3"
  },
  "language_info": {
   "codemirror_mode": {
    "name": "ipython",
    "version": 3
   },
   "file_extension": ".py",
   "mimetype": "text/x-python",
   "name": "python",
   "nbconvert_exporter": "python",
   "pygments_lexer": "ipython3",
   "version": "3.6.4"
  }
 },
 "nbformat": 4,
 "nbformat_minor": 2
}
