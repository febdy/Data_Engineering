{
 "cells": [
  {
   "cell_type": "code",
   "execution_count": 1,
   "metadata": {},
   "outputs": [
    {
     "name": "stderr",
     "output_type": "stream",
     "text": [
      "Some characters could not be decoded, and were replaced with REPLACEMENT CHARACTER.\n",
      "Some characters could not be decoded, and were replaced with REPLACEMENT CHARACTER.\n"
     ]
    }
   ],
   "source": [
    "#실시간 차트\n",
    "\n",
    "#웹 크롤링을 쉽게 해주는 BeautifulSoup\n",
    "#크롤링: 웹 사이트의 HTML문서에서 필요한 정보를 수집하는 것\n",
    "#스크래이핑: 실제 HTML만을 이용해 수집하는 것(크롤링의 일종)\n",
    "\n",
    "#Anaconda 설치 시 BeautifulSoup 라이브러리가 자동으로 포함됨\n",
    "from bs4 import BeautifulSoup\n",
    "from urllib.request import urlopen\n",
    "\n",
    "pg = urlopen('http://www.mnet.com/chart/TOP100/2018031514') #url의 페이지(html) 불러오기 / 엠넷\n",
    "pg2 = urlopen('http://www.mnet.com/chart/TOP100/2018031514?pNum=2')\n",
    "\n",
    "soup = BeautifulSoup(pg, 'html.parser')\n",
    "soup2 = BeautifulSoup(pg2, 'html.parser')\n",
    "\n",
    "song_list = soup.find(class_='MMLTable jQMMLTable').table.tbody.find_all('tr')\n",
    "#song_list\n",
    "\n",
    "song_list2 = soup2.find(class_='MMLTable jQMMLTable').table.tbody.find_all('tr')\n",
    "#song_list2"
   ]
  },
  {
   "cell_type": "code",
   "execution_count": 2,
   "metadata": {},
   "outputs": [
    {
     "name": "stderr",
     "output_type": "stream",
     "text": [
      "Some characters could not be decoded, and were replaced with REPLACEMENT CHARACTER.\n"
     ]
    },
    {
     "name": "stdout",
     "output_type": "stream",
     "text": [
      "순위:  1\n",
      "등락:  0\n",
      "곡:  꽃 길\n",
      "가수:  BIGBANG\n",
      "앨범:  꽃 길\n",
      "발매일:  2018.03.13\n",
      "\n"
     ]
    },
    {
     "name": "stderr",
     "output_type": "stream",
     "text": [
      "Some characters could not be decoded, and were replaced with REPLACEMENT CHARACTER.\n"
     ]
    },
    {
     "name": "stdout",
     "output_type": "stream",
     "text": [
      "순위:  2\n",
      "등락:  0\n",
      "곡:  별이 빛나는 밤\n",
      "가수:  마마무(Mamamoo)\n",
      "앨범:  Yellow Flower\n",
      "발매일:  2018.03.07\n",
      "\n"
     ]
    },
    {
     "name": "stderr",
     "output_type": "stream",
     "text": [
      "Some characters could not be decoded, and were replaced with REPLACEMENT CHARACTER.\n"
     ]
    },
    {
     "name": "stdout",
     "output_type": "stream",
     "text": [
      "순위:  3\n",
      "등락:  1\n",
      "곡:  Look\n",
      "가수:  GOT7 (갓세븐)\n",
      "앨범:  Eyes On You\n",
      "발매일:  2018.03.12\n",
      "\n"
     ]
    },
    {
     "name": "stderr",
     "output_type": "stream",
     "text": [
      "Some characters could not be decoded, and were replaced with REPLACEMENT CHARACTER.\n"
     ]
    },
    {
     "name": "stdout",
     "output_type": "stream",
     "text": [
      "순위:  4\n",
      "등락:  1\n",
      "곡:  Jenga (Feat. Gaeko)\n",
      "가수:  헤이즈(Heize)\n",
      "앨범:  바람\n",
      "발매일:  2018.03.08\n",
      "\n"
     ]
    },
    {
     "name": "stderr",
     "output_type": "stream",
     "text": [
      "Some characters could not be decoded, and were replaced with REPLACEMENT CHARACTER.\n"
     ]
    },
    {
     "name": "stdout",
     "output_type": "stream",
     "text": [
      "순위:  5\n",
      "등락:  0\n",
      "곡:  내가 더 나빠\n",
      "가수:  헤이즈(Heize)\n",
      "앨범:  바람\n",
      "발매일:  2018.03.08\n",
      "\n"
     ]
    },
    {
     "name": "stderr",
     "output_type": "stream",
     "text": [
      "Some characters could not be decoded, and were replaced with REPLACEMENT CHARACTER.\n"
     ]
    },
    {
     "name": "stdout",
     "output_type": "stream",
     "text": [
      "순위:  6\n",
      "등락:  5\n",
      "곡:  사랑을 했다 (LOVE SCENARIO)\n",
      "가수:  iKON\n",
      "앨범:  Return\n",
      "발매일:  2018.01.25\n",
      "\n"
     ]
    },
    {
     "name": "stderr",
     "output_type": "stream",
     "text": [
      "Some characters could not be decoded, and were replaced with REPLACEMENT CHARACTER.\n"
     ]
    },
    {
     "name": "stdout",
     "output_type": "stream",
     "text": [
      "순위:  7\n",
      "등락:  0\n",
      "곡:  나타나줘 (Feat. 박재범)\n",
      "가수:  로꼬\n",
      "앨범:  나타나줘\n",
      "발매일:  2018.03.14\n",
      "\n"
     ]
    },
    {
     "name": "stderr",
     "output_type": "stream",
     "text": [
      "Some characters could not be decoded, and were replaced with REPLACEMENT CHARACTER.\n"
     ]
    },
    {
     "name": "stdout",
     "output_type": "stream",
     "text": [
      "순위:  8\n",
      "등락:  2\n",
      "곡:  You\n",
      "가수:  멜로망스(Melomance)\n",
      "앨범:  투유 프로젝트 - 슈가맨2 Part 2\n",
      "발매일:  2018.01.22\n",
      "\n"
     ]
    },
    {
     "name": "stderr",
     "output_type": "stream",
     "text": [
      "Some characters could not be decoded, and were replaced with REPLACEMENT CHARACTER.\n"
     ]
    },
    {
     "name": "stdout",
     "output_type": "stream",
     "text": [
      "순위:  9\n",
      "등락:  1\n",
      "곡:  My Blossom\n",
      "가수:  소유(SOYOU)\n",
      "앨범:  My Blossom\n",
      "발매일:  2018.03.12\n",
      "\n"
     ]
    },
    {
     "name": "stderr",
     "output_type": "stream",
     "text": [
      "Some characters could not be decoded, and were replaced with REPLACEMENT CHARACTER.\n"
     ]
    },
    {
     "name": "stdout",
     "output_type": "stream",
     "text": [
      "순위:  10\n",
      "등락:  1\n",
      "곡:  괜찮냐고 \n",
      "가수:  헤이즈(Heize)\n",
      "앨범:  바람\n",
      "발매일:  2018.03.08\n",
      "\n"
     ]
    },
    {
     "name": "stderr",
     "output_type": "stream",
     "text": [
      "Some characters could not be decoded, and were replaced with REPLACEMENT CHARACTER.\n"
     ]
    },
    {
     "name": "stdout",
     "output_type": "stream",
     "text": [
      "순위:  11\n",
      "등락:  1\n",
      "곡:  뿜뿜\n",
      "가수:  모모랜드(MOMOLAND)\n",
      "앨범:  GREAT!\n",
      "발매일:  2018.01.03\n",
      "\n"
     ]
    },
    {
     "name": "stderr",
     "output_type": "stream",
     "text": [
      "Some characters could not be decoded, and were replaced with REPLACEMENT CHARACTER.\n"
     ]
    },
    {
     "name": "stdout",
     "output_type": "stream",
     "text": [
      "순위:  12\n",
      "등락:  1\n",
      "곡:  약속해요 (I.P.U.)\n",
      "가수:  Wanna One(워너원)\n",
      "앨범:  약속해요 (I.P.U.) - Special Theme Track\n",
      "발매일:  2018.03.05\n",
      "\n"
     ]
    },
    {
     "name": "stderr",
     "output_type": "stream",
     "text": [
      "Some characters could not be decoded, and were replaced with REPLACEMENT CHARACTER.\n"
     ]
    },
    {
     "name": "stdout",
     "output_type": "stream",
     "text": [
      "순위:  13\n",
      "등락:  4\n",
      "곡:  너 하나만 (Feat. 효린)\n",
      "가수:  GOT7 (갓세븐)\n",
      "앨범:  Eyes On You\n",
      "발매일:  2018.03.12\n",
      "\n"
     ]
    },
    {
     "name": "stderr",
     "output_type": "stream",
     "text": [
      "Some characters could not be decoded, and were replaced with REPLACEMENT CHARACTER.\n"
     ]
    },
    {
     "name": "stdout",
     "output_type": "stream",
     "text": [
      "순위:  14\n",
      "등락:  0\n",
      "곡:  애쓰지 마요\n",
      "가수:  박보람\n",
      "앨범:  애쓰지 마요\n",
      "발매일:  2018.02.13\n",
      "\n"
     ]
    },
    {
     "name": "stderr",
     "output_type": "stream",
     "text": [
      "Some characters could not be decoded, and were replaced with REPLACEMENT CHARACTER.\n"
     ]
    },
    {
     "name": "stdout",
     "output_type": "stream",
     "text": [
      "순위:  15\n",
      "등락:  5\n",
      "곡:  My Way\n",
      "가수:  이수(엠씨더맥스) \n",
      "앨범:  돈꽃 OST Part 1\n",
      "발매일:  2017.11.11\n",
      "\n"
     ]
    },
    {
     "name": "stderr",
     "output_type": "stream",
     "text": [
      "Some characters could not be decoded, and were replaced with REPLACEMENT CHARACTER.\n"
     ]
    },
    {
     "name": "stdout",
     "output_type": "stream",
     "text": [
      "순위:  16\n",
      "등락:  0\n",
      "곡:  그때 헤어지면 돼\n",
      "가수:  로이킴\n",
      "앨범:  그때 헤어지면 돼\n",
      "발매일:  2018.02.12\n",
      "\n"
     ]
    },
    {
     "name": "stderr",
     "output_type": "stream",
     "text": [
      "Some characters could not be decoded, and were replaced with REPLACEMENT CHARACTER.\n"
     ]
    },
    {
     "name": "stdout",
     "output_type": "stream",
     "text": [
      "순위:  17\n",
      "등락:  10\n",
      "곡:  Roller Coaster\n",
      "가수:  청하\n",
      "앨범:  Offset\n",
      "발매일:  2018.01.17\n",
      "\n"
     ]
    },
    {
     "name": "stderr",
     "output_type": "stream",
     "text": [
      "Some characters could not be decoded, and were replaced with REPLACEMENT CHARACTER.\n"
     ]
    },
    {
     "name": "stdout",
     "output_type": "stream",
     "text": [
      "순위:  18\n",
      "등락:  10\n",
      "곡:  HandClap\n",
      "가수:  Fitz & The Tantrums\n",
      "앨범:  Fitz and The Tantrums (Deluxe)\n",
      "발매일:  2017.07.28\n",
      "\n"
     ]
    },
    {
     "name": "stderr",
     "output_type": "stream",
     "text": [
      "Some characters could not be decoded, and were replaced with REPLACEMENT CHARACTER.\n"
     ]
    },
    {
     "name": "stdout",
     "output_type": "stream",
     "text": [
      "순위:  19\n",
      "등락:  0\n",
      "곡:  잘 살길 바래 (With DAVII)\n",
      "가수:  헤이즈(Heize)\n",
      "앨범:  바람\n",
      "발매일:  2018.03.08\n",
      "\n"
     ]
    },
    {
     "name": "stderr",
     "output_type": "stream",
     "text": [
      "Some characters could not be decoded, and were replaced with REPLACEMENT CHARACTER.\n"
     ]
    },
    {
     "name": "stdout",
     "output_type": "stream",
     "text": [
      "순위:  20\n",
      "등락:  31\n",
      "곡:  밤이 되니까\n",
      "가수:  펀치(Punch)\n",
      "앨범:  밤이 되니까\n",
      "발매일:  2017.09.29\n",
      "\n"
     ]
    },
    {
     "name": "stderr",
     "output_type": "stream",
     "text": [
      "Some characters could not be decoded, and were replaced with REPLACEMENT CHARACTER.\n"
     ]
    },
    {
     "name": "stdout",
     "output_type": "stream",
     "text": [
      "순위:  21\n",
      "등락:  18\n",
      "곡:  네가 없는 곳\n",
      "가수:  양요섭\n",
      "앨범:  YANG YOSEOP 2ND MINI ALBUM `白`\n",
      "발매일:  2018.02.19\n",
      "\n"
     ]
    },
    {
     "name": "stderr",
     "output_type": "stream",
     "text": [
      "Some characters could not be decoded, and were replaced with REPLACEMENT CHARACTER.\n"
     ]
    },
    {
     "name": "stdout",
     "output_type": "stream",
     "text": [
      "순위:  22\n",
      "등락:  30\n",
      "곡:  Bad Boy\n",
      "가수:  Red Velvet (레드벨벳)\n",
      "앨범:  The Perfect Red Velvet - The 2nd Album Repackage\n",
      "발매일:  2018.01.29\n",
      "\n"
     ]
    },
    {
     "name": "stderr",
     "output_type": "stream",
     "text": [
      "Some characters could not be decoded, and were replaced with REPLACEMENT CHARACTER.\n"
     ]
    },
    {
     "name": "stdout",
     "output_type": "stream",
     "text": [
      "순위:  23\n",
      "등락:  5\n",
      "곡:  후유증\n",
      "가수:  민경훈\n",
      "앨범:  후유증\n",
      "발매일:  2018.02.17\n",
      "\n"
     ]
    },
    {
     "name": "stderr",
     "output_type": "stream",
     "text": [
      "Some characters could not be decoded, and were replaced with REPLACEMENT CHARACTER.\n"
     ]
    },
    {
     "name": "stdout",
     "output_type": "stream",
     "text": [
      "순위:  24\n",
      "등락:  25\n",
      "곡:  선물\n",
      "가수:  멜로망스(Melomance)\n",
      "앨범:  Moonlight\n",
      "발매일:  2017.07.10\n",
      "\n"
     ]
    },
    {
     "name": "stderr",
     "output_type": "stream",
     "text": [
      "Some characters could not be decoded, and were replaced with REPLACEMENT CHARACTER.\n"
     ]
    },
    {
     "name": "stdout",
     "output_type": "stream",
     "text": [
      "순위:  25\n",
      "등락:  4\n",
      "곡:  instagram\n",
      "가수:  DEAN\n",
      "앨범:  instagram\n",
      "발매일:  2017.12.26\n",
      "\n"
     ]
    },
    {
     "name": "stderr",
     "output_type": "stream",
     "text": [
      "Some characters could not be decoded, and were replaced with REPLACEMENT CHARACTER.\n"
     ]
    },
    {
     "name": "stdout",
     "output_type": "stream",
     "text": [
      "순위:  26\n",
      "등락:  5\n",
      "곡:  MIANHAE\n",
      "가수:  헤이즈(Heize)\n",
      "앨범:  바람\n",
      "발매일:  2018.03.08\n",
      "\n"
     ]
    },
    {
     "name": "stderr",
     "output_type": "stream",
     "text": [
      "Some characters could not be decoded, and were replaced with REPLACEMENT CHARACTER.\n"
     ]
    },
    {
     "name": "stdout",
     "output_type": "stream",
     "text": [
      "순위:  27\n",
      "등락:  28\n",
      "곡:  눈사람\n",
      "가수:  정승환\n",
      "앨범:  그리고 봄\n",
      "발매일:  2018.02.19\n",
      "\n"
     ]
    },
    {
     "name": "stderr",
     "output_type": "stream",
     "text": [
      "Some characters could not be decoded, and were replaced with REPLACEMENT CHARACTER.\n"
     ]
    },
    {
     "name": "stdout",
     "output_type": "stream",
     "text": [
      "순위:  28\n",
      "등락:  5\n",
      "곡:  너 없는 시간들\n",
      "가수:  다비치\n",
      "앨범:  &10    \n",
      "발매일:  2018.01.25\n",
      "\n"
     ]
    },
    {
     "name": "stderr",
     "output_type": "stream",
     "text": [
      "Some characters could not be decoded, and were replaced with REPLACEMENT CHARACTER.\n"
     ]
    },
    {
     "name": "stdout",
     "output_type": "stream",
     "text": [
      "순위:  29\n",
      "등락:  3\n",
      "곡:  비행운\n",
      "가수:  문문(MoonMoon)\n",
      "앨범:  LIFE IS BEAUTY FULL\n",
      "발매일:  2016.11.10\n",
      "\n"
     ]
    },
    {
     "name": "stderr",
     "output_type": "stream",
     "text": [
      "Some characters could not be decoded, and were replaced with REPLACEMENT CHARACTER.\n"
     ]
    },
    {
     "name": "stdout",
     "output_type": "stream",
     "text": [
      "순위:  30\n",
      "등락:  5\n",
      "곡:  오늘밤도\n",
      "가수:  펀치(Punch)\n",
      "앨범:  오늘밤도\n",
      "발매일:  2018.02.06\n",
      "\n"
     ]
    },
    {
     "name": "stderr",
     "output_type": "stream",
     "text": [
      "Some characters could not be decoded, and were replaced with REPLACEMENT CHARACTER.\n"
     ]
    },
    {
     "name": "stdout",
     "output_type": "stream",
     "text": [
      "순위:  31\n",
      "등락:  28\n",
      "곡:  all of my life\n",
      "가수:  박원\n",
      "앨범:  0M\n",
      "발매일:  2017.07.27\n",
      "\n"
     ]
    },
    {
     "name": "stderr",
     "output_type": "stream",
     "text": [
      "Some characters could not be decoded, and were replaced with REPLACEMENT CHARACTER.\n"
     ]
    },
    {
     "name": "stdout",
     "output_type": "stream",
     "text": [
      "순위:  32\n",
      "등락:  16\n",
      "곡:  Thunder\n",
      "가수:  Imagine Dragons\n",
      "앨범:  Evolve\n",
      "발매일:  2018.02.22\n",
      "\n"
     ]
    },
    {
     "name": "stderr",
     "output_type": "stream",
     "text": [
      "Some characters could not be decoded, and were replaced with REPLACEMENT CHARACTER.\n"
     ]
    },
    {
     "name": "stdout",
     "output_type": "stream",
     "text": [
      "순위:  33\n",
      "등락:  3\n",
      "곡:  봉제선 (Feat. 수란)\n",
      "가수:  다이나믹 듀오(Dynamic Duo)\n",
      "앨범:  봉제선\n",
      "발매일:  2018.02.07\n",
      "\n"
     ]
    },
    {
     "name": "stderr",
     "output_type": "stream",
     "text": [
      "Some characters could not be decoded, and were replaced with REPLACEMENT CHARACTER.\n"
     ]
    },
    {
     "name": "stdout",
     "output_type": "stream",
     "text": [
      "순위:  34\n",
      "등락:  1\n",
      "곡:  #첫사랑\n",
      "가수:  볼빨간사춘기\n",
      "앨범:  #첫사랑\n",
      "발매일:  2018.01.10\n",
      "\n"
     ]
    },
    {
     "name": "stderr",
     "output_type": "stream",
     "text": [
      "Some characters could not be decoded, and were replaced with REPLACEMENT CHARACTER.\n"
     ]
    },
    {
     "name": "stdout",
     "output_type": "stream",
     "text": [
      "순위:  35\n",
      "등락:  36\n",
      "곡:  바람\n",
      "가수:  헤이즈(Heize)\n",
      "앨범:  바람\n",
      "발매일:  2018.03.08\n",
      "\n"
     ]
    },
    {
     "name": "stderr",
     "output_type": "stream",
     "text": [
      "Some characters could not be decoded, and were replaced with REPLACEMENT CHARACTER.\n"
     ]
    },
    {
     "name": "stdout",
     "output_type": "stream",
     "text": [
      "순위:  36\n",
      "등락:  21\n",
      "곡:  Havana (Feat. Young Thug)\n",
      "가수:  Camila Cabello\n",
      "앨범:  Camila\n",
      "발매일:  2018.01.12\n",
      "\n"
     ]
    },
    {
     "name": "stderr",
     "output_type": "stream",
     "text": [
      "Some characters could not be decoded, and were replaced with REPLACEMENT CHARACTER.\n"
     ]
    },
    {
     "name": "stdout",
     "output_type": "stream",
     "text": [
      "순위:  37\n",
      "등락:  8\n",
      "곡:  별 바람 꽃 태양\n",
      "가수:  마마무(Mamamoo)\n",
      "앨범:  Yellow Flower\n",
      "발매일:  2018.03.07\n",
      "\n"
     ]
    },
    {
     "name": "stderr",
     "output_type": "stream",
     "text": [
      "Some characters could not be decoded, and were replaced with REPLACEMENT CHARACTER.\n"
     ]
    },
    {
     "name": "stdout",
     "output_type": "stream",
     "text": [
      "순위:  38\n",
      "등락:  12\n",
      "곡:  There`s Nothing Holdin` Me Back\n",
      "가수:  Shawn Mendes\n",
      "앨범:  Illuminate (New Deluxe Ver.)\n",
      "발매일:  2017.04.21\n",
      "\n"
     ]
    },
    {
     "name": "stderr",
     "output_type": "stream",
     "text": [
      "Some characters could not be decoded, and were replaced with REPLACEMENT CHARACTER.\n"
     ]
    },
    {
     "name": "stdout",
     "output_type": "stream",
     "text": [
      "순위:  39\n",
      "등락:  11\n",
      "곡:  All Falls Down (Feat. Noah Cyrus, Digit ..\n",
      "가수:  Alan Walker\n",
      "앨범:  All Falls Down\n",
      "발매일:  2017.10.27\n",
      "\n"
     ]
    },
    {
     "name": "stderr",
     "output_type": "stream",
     "text": [
      "Some characters could not be decoded, and were replaced with REPLACEMENT CHARACTER.\n"
     ]
    },
    {
     "name": "stdout",
     "output_type": "stream",
     "text": [
      "순위:  40\n",
      "등락:  100\n",
      "곡:  비도 오고 그래서 (Feat. 신용재)\n",
      "가수:  헤이즈(Heize)\n",
      "앨범:  /// (너 먹구름 비)\n",
      "발매일:  2017.06.26\n",
      "\n"
     ]
    },
    {
     "name": "stderr",
     "output_type": "stream",
     "text": [
      "Some characters could not be decoded, and were replaced with REPLACEMENT CHARACTER.\n"
     ]
    },
    {
     "name": "stdout",
     "output_type": "stream",
     "text": [
      "순위:  41\n",
      "등락:  7\n",
      "곡:  Action! (Feat. GRAY)\n",
      "가수:  DPR LIVE\n",
      "앨범:  Action!\n",
      "발매일:  2018.03.13\n",
      "\n"
     ]
    },
    {
     "name": "stderr",
     "output_type": "stream",
     "text": [
      "Some characters could not be decoded, and were replaced with REPLACEMENT CHARACTER.\n"
     ]
    },
    {
     "name": "stdout",
     "output_type": "stream",
     "text": [
      "순위:  42\n",
      "등락:  100\n",
      "곡:  이 별\n",
      "가수:  길구봉구\n",
      "앨범:  Star\n",
      "발매일:  2017.09.18\n",
      "\n"
     ]
    },
    {
     "name": "stderr",
     "output_type": "stream",
     "text": [
      "Some characters could not be decoded, and were replaced with REPLACEMENT CHARACTER.\n"
     ]
    },
    {
     "name": "stdout",
     "output_type": "stream",
     "text": [
      "순위:  43\n",
      "등락:  21\n",
      "곡:  주인공\n",
      "가수:  선미\n",
      "앨범:  주인공\n",
      "발매일:  2018.01.18\n",
      "\n"
     ]
    },
    {
     "name": "stderr",
     "output_type": "stream",
     "text": [
      "Some characters could not be decoded, and were replaced with REPLACEMENT CHARACTER.\n"
     ]
    },
    {
     "name": "stdout",
     "output_type": "stream",
     "text": [
      "순위:  44\n",
      "등락:  20\n",
      "곡:  BOSS\n",
      "가수:  NCT U\n",
      "앨범:  NCT 2018 EMPATHY\n",
      "발매일:  2018.03.14\n",
      "\n"
     ]
    },
    {
     "name": "stderr",
     "output_type": "stream",
     "text": [
      "Some characters could not be decoded, and were replaced with REPLACEMENT CHARACTER.\n"
     ]
    },
    {
     "name": "stdout",
     "output_type": "stream",
     "text": [
      "순위:  45\n",
      "등락:  9\n",
      "곡:  가을 안부\n",
      "가수:  먼데이키즈(Monday Kiz)\n",
      "앨범:  가을 안부\n",
      "발매일:  2017.10.14\n",
      "\n"
     ]
    },
    {
     "name": "stderr",
     "output_type": "stream",
     "text": [
      "Some characters could not be decoded, and were replaced with REPLACEMENT CHARACTER.\n"
     ]
    },
    {
     "name": "stdout",
     "output_type": "stream",
     "text": [
      "순위:  46\n",
      "등락:  15\n",
      "곡:  눈 떠보니 이별이더라\n",
      "가수:  포맨\n",
      "앨범:  REMEMBER ME\n",
      "발매일:  2017.10.24\n",
      "\n"
     ]
    },
    {
     "name": "stderr",
     "output_type": "stream",
     "text": [
      "Some characters could not be decoded, and were replaced with REPLACEMENT CHARACTER.\n"
     ]
    },
    {
     "name": "stdout",
     "output_type": "stream",
     "text": [
      "순위:  47\n",
      "등락:  10\n",
      "곡:  True Love\n",
      "가수:  김성규\n",
      "앨범:  1st Album `10 Stories`\n",
      "발매일:  2018.02.26\n",
      "\n"
     ]
    },
    {
     "name": "stderr",
     "output_type": "stream",
     "text": [
      "Some characters could not be decoded, and were replaced with REPLACEMENT CHARACTER.\n"
     ]
    },
    {
     "name": "stdout",
     "output_type": "stream",
     "text": [
      "순위:  48\n",
      "등락:  5\n",
      "곡:  Grapevine (포도주) (Feat. 박재범)\n",
      "가수:  Junoflo(주노플로)\n",
      "앨범:  Only Human\n",
      "발매일:  2018.03.13\n",
      "\n"
     ]
    },
    {
     "name": "stderr",
     "output_type": "stream",
     "text": [
      "Some characters could not be decoded, and were replaced with REPLACEMENT CHARACTER.\n"
     ]
    },
    {
     "name": "stdout",
     "output_type": "stream",
     "text": [
      "순위:  49\n",
      "등락:  30\n",
      "곡:  이슬을 머금은 나무\n",
      "가수:  XIA\n",
      "앨범:  Tarantallegra\n",
      "발매일:  2012.05.15\n",
      "\n"
     ]
    },
    {
     "name": "stderr",
     "output_type": "stream",
     "text": [
      "Some characters could not be decoded, and were replaced with REPLACEMENT CHARACTER.\n"
     ]
    },
    {
     "name": "stdout",
     "output_type": "stream",
     "text": [
      "순위:  50\n",
      "등락:  9\n",
      "곡:  봄날\n",
      "가수:  방탄소년단\n",
      "앨범:  YOU NEVER WALK ALONE\n",
      "발매일:  2017.02.13\n",
      "\n"
     ]
    },
    {
     "name": "stderr",
     "output_type": "stream",
     "text": [
      "Some characters could not be decoded, and were replaced with REPLACEMENT CHARACTER.\n"
     ]
    },
    {
     "name": "stdout",
     "output_type": "stream",
     "text": [
      "순위:  51\n",
      "등락:  4\n",
      "곡:  Faded\n",
      "가수:  Alan Walker\n",
      "앨범:  Faded\n",
      "발매일:  2016.01.15\n",
      "\n"
     ]
    },
    {
     "name": "stderr",
     "output_type": "stream",
     "text": [
      "Some characters could not be decoded, and were replaced with REPLACEMENT CHARACTER.\n"
     ]
    },
    {
     "name": "stdout",
     "output_type": "stream",
     "text": [
      "순위:  52\n",
      "등락:  14\n",
      "곡:  LIKEY\n",
      "가수:  TWICE(트와이스)\n",
      "앨범:  twicetagram\n",
      "발매일:  2017.10.30\n",
      "\n"
     ]
    },
    {
     "name": "stderr",
     "output_type": "stream",
     "text": [
      "Some characters could not be decoded, and were replaced with REPLACEMENT CHARACTER.\n"
     ]
    },
    {
     "name": "stdout",
     "output_type": "stream",
     "text": [
      "순위:  53\n",
      "등락:  9\n",
      "곡:  GO\n",
      "가수:  NCT DREAM\n",
      "앨범:  NCT 2018 EMPATHY\n",
      "발매일:  2018.03.14\n",
      "\n"
     ]
    },
    {
     "name": "stderr",
     "output_type": "stream",
     "text": [
      "Some characters could not be decoded, and were replaced with REPLACEMENT CHARACTER.\n"
     ]
    },
    {
     "name": "stdout",
     "output_type": "stream",
     "text": [
      "순위:  54\n",
      "등락:  3\n",
      "곡:  Love Letter (언약)\n",
      "가수:  2Shai\n",
      "앨범:  Love Letter\n",
      "발매일:  2003.09.08\n",
      "\n"
     ]
    },
    {
     "name": "stderr",
     "output_type": "stream",
     "text": [
      "Some characters could not be decoded, and were replaced with REPLACEMENT CHARACTER.\n"
     ]
    },
    {
     "name": "stdout",
     "output_type": "stream",
     "text": [
      "순위:  55\n",
      "등락:  100\n",
      "곡:  그날처럼\n",
      "가수:  장덕철\n",
      "앨범:  그날처럼\n",
      "발매일:  2017.11.28\n",
      "\n"
     ]
    },
    {
     "name": "stderr",
     "output_type": "stream",
     "text": [
      "Some characters could not be decoded, and were replaced with REPLACEMENT CHARACTER.\n"
     ]
    },
    {
     "name": "stdout",
     "output_type": "stream",
     "text": [
      "순위:  56\n",
      "등락:  4\n",
      "곡:  비밀정원\n",
      "가수:  오마이걸(OH MY GIRL)\n",
      "앨범:  비밀정원\n",
      "발매일:  2018.01.09\n",
      "\n"
     ]
    },
    {
     "name": "stderr",
     "output_type": "stream",
     "text": [
      "Some characters could not be decoded, and were replaced with REPLACEMENT CHARACTER.\n"
     ]
    },
    {
     "name": "stdout",
     "output_type": "stream",
     "text": [
      "순위:  57\n",
      "등락:  22\n",
      "곡:  다른사람을 사랑하고 있어\n",
      "가수:  수지(SUZY)\n",
      "앨범:  Faces of Love\n",
      "발매일:  2018.01.29\n",
      "\n"
     ]
    },
    {
     "name": "stderr",
     "output_type": "stream",
     "text": [
      "Some characters could not be decoded, and were replaced with REPLACEMENT CHARACTER.\n"
     ]
    },
    {
     "name": "stdout",
     "output_type": "stream",
     "text": [
      "순위:  58\n",
      "등락:  6\n",
      "곡:  봄타\n",
      "가수:  마마무(Mamamoo)\n",
      "앨범:  Yellow Flower\n",
      "발매일:  2018.03.07\n",
      "\n"
     ]
    },
    {
     "name": "stderr",
     "output_type": "stream",
     "text": [
      "Some characters could not be decoded, and were replaced with REPLACEMENT CHARACTER.\n"
     ]
    },
    {
     "name": "stdout",
     "output_type": "stream",
     "text": [
      "순위:  59\n",
      "등락:  17\n",
      "곡:  사랑은 아프다\n",
      "가수:  이승철\n",
      "앨범:  미스티 (JTBC 금토드라마) OST - Part 1\n",
      "발매일:  2018.02.17\n",
      "\n"
     ]
    },
    {
     "name": "stderr",
     "output_type": "stream",
     "text": [
      "Some characters could not be decoded, and were replaced with REPLACEMENT CHARACTER.\n"
     ]
    },
    {
     "name": "stdout",
     "output_type": "stream",
     "text": [
      "순위:  60\n",
      "등락:  10\n",
      "곡:  Baby Don’t Stop\n",
      "가수:  NCT U\n",
      "앨범:  NCT 2018 EMPATHY\n",
      "발매일:  2018.03.14\n",
      "\n"
     ]
    },
    {
     "name": "stderr",
     "output_type": "stream",
     "text": [
      "Some characters could not be decoded, and were replaced with REPLACEMENT CHARACTER.\n"
     ]
    },
    {
     "name": "stdout",
     "output_type": "stream",
     "text": [
      "순위:  61\n",
      "등락:  15\n",
      "곡:  TOUCH\n",
      "가수:  NCT 127\n",
      "앨범:  NCT 2018 EMPATHY\n",
      "발매일:  2018.03.14\n",
      "\n"
     ]
    },
    {
     "name": "stderr",
     "output_type": "stream",
     "text": [
      "Some characters could not be decoded, and were replaced with REPLACEMENT CHARACTER.\n"
     ]
    },
    {
     "name": "stdout",
     "output_type": "stream",
     "text": [
      "순위:  62\n",
      "등락:  9\n",
      "곡:  Heart Shaker\n",
      "가수:  TWICE(트와이스)\n",
      "앨범:  Merry & Happy\n",
      "발매일:  2017.12.11\n",
      "\n"
     ]
    },
    {
     "name": "stderr",
     "output_type": "stream",
     "text": [
      "Some characters could not be decoded, and were replaced with REPLACEMENT CHARACTER.\n"
     ]
    },
    {
     "name": "stdout",
     "output_type": "stream",
     "text": [
      "순위:  63\n",
      "등락:  27\n",
      "곡:  The Reason\n",
      "가수:  GOT7 (갓세븐)\n",
      "앨범:  Eyes On You\n",
      "발매일:  2018.03.12\n",
      "\n"
     ]
    },
    {
     "name": "stderr",
     "output_type": "stream",
     "text": [
      "Some characters could not be decoded, and were replaced with REPLACEMENT CHARACTER.\n"
     ]
    },
    {
     "name": "stdout",
     "output_type": "stream",
     "text": [
      "순위:  64\n",
      "등락:  19\n",
      "곡:  답장\n",
      "가수:  김동률\n",
      "앨범:  답장\n",
      "발매일:  2018.01.11\n",
      "\n"
     ]
    },
    {
     "name": "stderr",
     "output_type": "stream",
     "text": [
      "Some characters could not be decoded, and were replaced with REPLACEMENT CHARACTER.\n"
     ]
    },
    {
     "name": "stdout",
     "output_type": "stream",
     "text": [
      "순위:  65\n",
      "등락:  28\n",
      "곡:  HOLIDAY (Feat. DPR LIVE)\n",
      "가수:  수지(SUZY)\n",
      "앨범:  Faces of Love\n",
      "발매일:  2018.01.29\n",
      "\n"
     ]
    },
    {
     "name": "stderr",
     "output_type": "stream",
     "text": [
      "Some characters could not be decoded, and were replaced with REPLACEMENT CHARACTER.\n"
     ]
    },
    {
     "name": "stdout",
     "output_type": "stream",
     "text": [
      "순위:  66\n",
      "등락:  9\n",
      "곡:  우산 (Feat. 윤하)\n",
      "가수:  에픽하이 (EPIK HIGH)\n",
      "앨범:  Pieces, Part One\n",
      "발매일:  2008.04.17\n",
      "\n"
     ]
    },
    {
     "name": "stderr",
     "output_type": "stream",
     "text": [
      "Some characters could not be decoded, and were replaced with REPLACEMENT CHARACTER.\n"
     ]
    },
    {
     "name": "stdout",
     "output_type": "stream",
     "text": [
      "순위:  67\n",
      "등락:  29\n",
      "곡:  망설이다\n",
      "가수:  GOT7 (갓세븐)\n",
      "앨범:  Eyes On You\n",
      "발매일:  2018.03.12\n",
      "\n"
     ]
    },
    {
     "name": "stderr",
     "output_type": "stream",
     "text": [
      "Some characters could not be decoded, and were replaced with REPLACEMENT CHARACTER.\n"
     ]
    },
    {
     "name": "stdout",
     "output_type": "stream",
     "text": [
      "순위:  68\n",
      "등락:  32\n",
      "곡:  Rude Boy\n",
      "가수:  마마무(Mamamoo)\n",
      "앨범:  Yellow Flower\n",
      "발매일:  2018.03.07\n",
      "\n"
     ]
    },
    {
     "name": "stderr",
     "output_type": "stream",
     "text": [
      "Some characters could not be decoded, and were replaced with REPLACEMENT CHARACTER.\n"
     ]
    },
    {
     "name": "stdout",
     "output_type": "stream",
     "text": [
      "순위:  69\n",
      "등락:  13\n",
      "곡:  기억의 빈자리\n",
      "가수:  나얼\n",
      "앨범:  기억의 빈자리\n",
      "발매일:  2017.11.29\n",
      "\n"
     ]
    },
    {
     "name": "stderr",
     "output_type": "stream",
     "text": [
      "Some characters could not be decoded, and were replaced with REPLACEMENT CHARACTER.\n"
     ]
    },
    {
     "name": "stdout",
     "output_type": "stream",
     "text": [
      "순위:  70\n",
      "등락:  26\n",
      "곡:  우리\n",
      "가수:  GOT7 (갓세븐)\n",
      "앨범:  Eyes On You\n",
      "발매일:  2018.03.12\n",
      "\n"
     ]
    },
    {
     "name": "stderr",
     "output_type": "stream",
     "text": [
      "Some characters could not be decoded, and were replaced with REPLACEMENT CHARACTER.\n"
     ]
    },
    {
     "name": "stdout",
     "output_type": "stream",
     "text": [
      "순위:  71\n",
      "등락:  31\n",
      "곡:  고마워\n",
      "가수:  GOT7 (갓세븐)\n",
      "앨범:  Eyes On You\n",
      "발매일:  2018.03.12\n",
      "\n"
     ]
    },
    {
     "name": "stderr",
     "output_type": "stream",
     "text": [
      "Some characters could not be decoded, and were replaced with REPLACEMENT CHARACTER.\n"
     ]
    },
    {
     "name": "stdout",
     "output_type": "stream",
     "text": [
      "순위:  72\n",
      "등락:  100\n",
      "곡:  덜덜덜\n",
      "가수:  EXID\n",
      "앨범:  Full Moon\n",
      "발매일:  2017.11.07\n",
      "\n"
     ]
    },
    {
     "name": "stderr",
     "output_type": "stream",
     "text": [
      "Some characters could not be decoded, and were replaced with REPLACEMENT CHARACTER.\n"
     ]
    },
    {
     "name": "stdout",
     "output_type": "stream",
     "text": [
      "순위:  73\n",
      "등락:  16\n",
      "곡:  벚꽃 엔딩\n",
      "가수:  버스커 버스커\n",
      "앨범:  버스커 버스커\n",
      "발매일:  2012.03.29\n",
      "\n"
     ]
    },
    {
     "name": "stderr",
     "output_type": "stream",
     "text": [
      "Some characters could not be decoded, and were replaced with REPLACEMENT CHARACTER.\n"
     ]
    },
    {
     "name": "stdout",
     "output_type": "stream",
     "text": [
      "순위:  74\n",
      "등락:  14\n",
      "곡:  끌림\n",
      "가수:  김성규\n",
      "앨범:  1st Album `10 Stories`\n",
      "발매일:  2018.02.26\n",
      "\n"
     ]
    },
    {
     "name": "stderr",
     "output_type": "stream",
     "text": [
      "Some characters could not be decoded, and were replaced with REPLACEMENT CHARACTER.\n"
     ]
    },
    {
     "name": "stdout",
     "output_type": "stream",
     "text": [
      "순위:  75\n",
      "등락:  100\n",
      "곡:  너였다면\n",
      "가수:  정승환\n",
      "앨범:  또 오해영 OST Part 5\n",
      "발매일:  2016.05.31\n",
      "\n"
     ]
    },
    {
     "name": "stderr",
     "output_type": "stream",
     "text": [
      "Some characters could not be decoded, and were replaced with REPLACEMENT CHARACTER.\n"
     ]
    },
    {
     "name": "stdout",
     "output_type": "stream",
     "text": [
      "순위:  76\n",
      "등락:  18\n",
      "곡:  얼굴 찌푸리지 말아요\n",
      "가수:  하이라이트(Highlight)\n",
      "앨범:  CAN YOU FEEL IT?\n",
      "발매일:  2017.03.20\n",
      "\n"
     ]
    },
    {
     "name": "stderr",
     "output_type": "stream",
     "text": [
      "Some characters could not be decoded, and were replaced with REPLACEMENT CHARACTER.\n"
     ]
    },
    {
     "name": "stdout",
     "output_type": "stream",
     "text": [
      "순위:  77\n",
      "등락:  5\n",
      "곡:  비가와 (Rain)\n",
      "가수:  소유\n",
      "앨범:  비가와\n",
      "발매일:  2017.02.14\n",
      "\n"
     ]
    },
    {
     "name": "stderr",
     "output_type": "stream",
     "text": [
      "Some characters could not be decoded, and were replaced with REPLACEMENT CHARACTER.\n"
     ]
    },
    {
     "name": "stdout",
     "output_type": "stream",
     "text": [
      "순위:  78\n",
      "등락:  100\n",
      "곡:  불장난\n",
      "가수:  BLACKPINK\n",
      "앨범:  SQUARE TWO\n",
      "발매일:  2016.11.01\n",
      "\n"
     ]
    },
    {
     "name": "stderr",
     "output_type": "stream",
     "text": [
      "Some characters could not be decoded, and were replaced with REPLACEMENT CHARACTER.\n"
     ]
    },
    {
     "name": "stdout",
     "output_type": "stream",
     "text": [
      "순위:  79\n",
      "등락:  100\n",
      "곡:  그때의 나, 그때의 우리\n",
      "가수:  어반 자카파(Urban Zakapa)\n",
      "앨범:  그때의 나, 그때의 우리\n",
      "발매일:  2017.11.08\n",
      "\n"
     ]
    },
    {
     "name": "stderr",
     "output_type": "stream",
     "text": [
      "Some characters could not be decoded, and were replaced with REPLACEMENT CHARACTER.\n"
     ]
    },
    {
     "name": "stdout",
     "output_type": "stream",
     "text": [
      "순위:  80\n",
      "등락:  100\n",
      "곡:  Something Just Like This\n",
      "가수:  The Chainsmokers\n",
      "앨범:  Memories...Do Not Open\n",
      "발매일:  2017.04.07\n",
      "\n"
     ]
    },
    {
     "name": "stderr",
     "output_type": "stream",
     "text": [
      "Some characters could not be decoded, and were replaced with REPLACEMENT CHARACTER.\n"
     ]
    },
    {
     "name": "stdout",
     "output_type": "stream",
     "text": [
      "순위:  81\n",
      "등락:  21\n",
      "곡:  잘가라\n",
      "가수:  홍진영\n",
      "앨범:  잘가라\n",
      "발매일:  2018.02.07\n",
      "\n"
     ]
    },
    {
     "name": "stderr",
     "output_type": "stream",
     "text": [
      "Some characters could not be decoded, and were replaced with REPLACEMENT CHARACTER.\n"
     ]
    },
    {
     "name": "stdout",
     "output_type": "stream",
     "text": [
      "순위:  82\n",
      "등락:  16\n",
      "곡:  Lost Stars\n",
      "가수:  Adam Levine\n",
      "앨범:  영화 Begin Again OST\n",
      "발매일:  2014.07.14\n",
      "\n"
     ]
    },
    {
     "name": "stderr",
     "output_type": "stream",
     "text": [
      "Some characters could not be decoded, and were replaced with REPLACEMENT CHARACTER.\n"
     ]
    },
    {
     "name": "stdout",
     "output_type": "stream",
     "text": [
      "순위:  83\n",
      "등락:  5\n",
      "곡:  우리도 그들처럼\n",
      "가수:  XIA(준수)\n",
      "앨범:  우리도 그들처럼\n",
      "발매일:  2017.12.15\n",
      "\n"
     ]
    },
    {
     "name": "stderr",
     "output_type": "stream",
     "text": [
      "Some characters could not be decoded, and were replaced with REPLACEMENT CHARACTER.\n"
     ]
    },
    {
     "name": "stdout",
     "output_type": "stream",
     "text": [
      "순위:  84\n",
      "등락:  10\n",
      "곡:  어떤 사랑\n",
      "가수:  승관(SEVENTEEN)\n",
      "앨범:  마더 OST Part 5\n",
      "발매일:  2018.03.15\n",
      "\n"
     ]
    },
    {
     "name": "stderr",
     "output_type": "stream",
     "text": [
      "Some characters could not be decoded, and were replaced with REPLACEMENT CHARACTER.\n"
     ]
    },
    {
     "name": "stdout",
     "output_type": "stream",
     "text": [
      "순위:  85\n",
      "등락:  0\n",
      "곡:  사랑하지 않은 것처럼\n",
      "가수:  버즈\n",
      "앨범:  `Be One` - Buzz The 1st Mini Album\n",
      "발매일:  2017.07.28\n",
      "\n"
     ]
    },
    {
     "name": "stderr",
     "output_type": "stream",
     "text": [
      "Some characters could not be decoded, and were replaced with REPLACEMENT CHARACTER.\n"
     ]
    },
    {
     "name": "stdout",
     "output_type": "stream",
     "text": [
      "순위:  86\n",
      "등락:  100\n",
      "곡:  REALLY REALLY\n",
      "가수:  WINNER\n",
      "앨범:  FATE NUMBER FOR\n",
      "발매일:  2017.04.04\n",
      "\n"
     ]
    },
    {
     "name": "stderr",
     "output_type": "stream",
     "text": [
      "Some characters could not be decoded, and were replaced with REPLACEMENT CHARACTER.\n"
     ]
    },
    {
     "name": "stdout",
     "output_type": "stream",
     "text": [
      "순위:  87\n",
      "등락:  100\n",
      "곡:  노력\n",
      "가수:  박원\n",
      "앨범:  1/24\n",
      "발매일:  2016.11.17\n",
      "\n"
     ]
    },
    {
     "name": "stderr",
     "output_type": "stream",
     "text": [
      "Some characters could not be decoded, and were replaced with REPLACEMENT CHARACTER.\n"
     ]
    },
    {
     "name": "stdout",
     "output_type": "stream",
     "text": [
      "순위:  88\n",
      "등락:  6\n",
      "곡:  미안해\n",
      "가수:  양다일\n",
      "앨범:  inside\n",
      "발매일:  2017.12.29\n",
      "\n"
     ]
    },
    {
     "name": "stderr",
     "output_type": "stream",
     "text": [
      "Some characters could not be decoded, and were replaced with REPLACEMENT CHARACTER.\n"
     ]
    },
    {
     "name": "stdout",
     "output_type": "stream",
     "text": [
      "순위:  89\n",
      "등락:  100\n",
      "곡:  널 너무 모르고\n",
      "가수:  헤이즈(Heize)\n",
      "앨범:  /// (너 먹구름 비)\n",
      "발매일:  2017.06.26\n",
      "\n"
     ]
    },
    {
     "name": "stderr",
     "output_type": "stream",
     "text": [
      "Some characters could not be decoded, and were replaced with REPLACEMENT CHARACTER.\n"
     ]
    },
    {
     "name": "stdout",
     "output_type": "stream",
     "text": [
      "순위:  90\n",
      "등락:  6\n",
      "곡:  안되나용  (Feat. 휘성(Realslow))\n",
      "가수:  김영철\n",
      "앨범:  안되나용...(부재: 화양사거리)\n",
      "발매일:  2018.02.17\n",
      "\n"
     ]
    },
    {
     "name": "stderr",
     "output_type": "stream",
     "text": [
      "Some characters could not be decoded, and were replaced with REPLACEMENT CHARACTER.\n"
     ]
    },
    {
     "name": "stdout",
     "output_type": "stream",
     "text": [
      "순위:  91\n",
      "등락:  100\n",
      "곡:  나의 사춘기에게\n",
      "가수:  볼빨간사춘기\n",
      "앨범:  Red Diary Page.1\n",
      "발매일:  2017.09.28\n",
      "\n"
     ]
    },
    {
     "name": "stderr",
     "output_type": "stream",
     "text": [
      "Some characters could not be decoded, and were replaced with REPLACEMENT CHARACTER.\n"
     ]
    },
    {
     "name": "stdout",
     "output_type": "stream",
     "text": [
      "순위:  92\n",
      "등락:  100\n",
      "곡:  팔레트 (Feat. G-DRAGON)\n",
      "가수:  아이유(IU)\n",
      "앨범:  Palette\n",
      "발매일:  2017.04.21\n",
      "\n"
     ]
    },
    {
     "name": "stderr",
     "output_type": "stream",
     "text": [
      "Some characters could not be decoded, and were replaced with REPLACEMENT CHARACTER.\n"
     ]
    },
    {
     "name": "stdout",
     "output_type": "stream",
     "text": [
      "순위:  93\n",
      "등락:  100\n",
      "곡:  무제(無題) (Untitled, 2014)\n",
      "가수:  G-DRAGON\n",
      "앨범:  권지용\n",
      "발매일:  2017.06.08\n",
      "\n"
     ]
    },
    {
     "name": "stderr",
     "output_type": "stream",
     "text": [
      "Some characters could not be decoded, and were replaced with REPLACEMENT CHARACTER.\n"
     ]
    },
    {
     "name": "stdout",
     "output_type": "stream",
     "text": [
      "순위:  94\n",
      "등락:  8\n",
      "곡:  별\n",
      "가수:  양요섭\n",
      "앨범:  YANG YOSEOP 2ND MINI ALBUM `白`\n",
      "발매일:  2018.02.19\n",
      "\n"
     ]
    },
    {
     "name": "stderr",
     "output_type": "stream",
     "text": [
      "Some characters could not be decoded, and were replaced with REPLACEMENT CHARACTER.\n"
     ]
    },
    {
     "name": "stdout",
     "output_type": "stream",
     "text": [
      "순위:  95\n",
      "등락:  8\n",
      "곡:  Beautiful\n",
      "가수:  크러쉬(CRUSH)\n",
      "앨범:  도깨비 OST Part 4\n",
      "발매일:  2016.12.17\n",
      "\n"
     ]
    },
    {
     "name": "stderr",
     "output_type": "stream",
     "text": [
      "Some characters could not be decoded, and were replaced with REPLACEMENT CHARACTER.\n"
     ]
    },
    {
     "name": "stdout",
     "output_type": "stream",
     "text": [
      "순위:  96\n",
      "등락:  1\n",
      "곡:  한숨\n",
      "가수:  이하이\n",
      "앨범:  SEOULITE\n",
      "발매일:  2016.03.09\n",
      "\n"
     ]
    },
    {
     "name": "stderr",
     "output_type": "stream",
     "text": [
      "Some characters could not be decoded, and were replaced with REPLACEMENT CHARACTER.\n"
     ]
    },
    {
     "name": "stdout",
     "output_type": "stream",
     "text": [
      "순위:  97\n",
      "등락:  34\n",
      "곡:  파랑새\n",
      "가수:  에이프릴(APRIL)\n",
      "앨범:  에이프릴(APRIL) 5th Mini Album `The Blue`\n",
      "발매일:  2018.03.12\n",
      "\n"
     ]
    },
    {
     "name": "stderr",
     "output_type": "stream",
     "text": [
      "Some characters could not be decoded, and were replaced with REPLACEMENT CHARACTER.\n"
     ]
    },
    {
     "name": "stdout",
     "output_type": "stream",
     "text": [
      "순위:  98\n",
      "등락:  6\n",
      "곡:  IF YOU\n",
      "가수:  BIGBANG\n",
      "앨범:  D\n",
      "발매일:  2015.07.01\n",
      "\n"
     ]
    },
    {
     "name": "stderr",
     "output_type": "stream",
     "text": [
      "Some characters could not be decoded, and were replaced with REPLACEMENT CHARACTER.\n"
     ]
    },
    {
     "name": "stdout",
     "output_type": "stream",
     "text": [
      "순위:  99\n",
      "등락:  9\n",
      "곡:  Undercover (Feat. 윤미래)\n",
      "가수:  Junoflo(주노플로)\n",
      "앨범:  Only Human\n",
      "발매일:  2018.03.13\n",
      "\n"
     ]
    },
    {
     "name": "stderr",
     "output_type": "stream",
     "text": [
      "Some characters could not be decoded, and were replaced with REPLACEMENT CHARACTER.\n"
     ]
    },
    {
     "name": "stdout",
     "output_type": "stream",
     "text": [
      "순위:  100\n",
      "등락:  100\n",
      "곡:  물감\n",
      "가수:  문문(MoonMoon)\n",
      "앨범:  물감\n",
      "발매일:  2017.04.24\n",
      "\n"
     ]
    }
   ],
   "source": [
    "mnet=[]\n",
    "\n",
    "for song in song_list: # 실시간 차트에서 노래 정보 가져오기\n",
    "    \n",
    "    rank= song.find('span', class_='MMLI_RankNum').get_text().strip('위')\n",
    "    num= song.find('td', class_='MMLItemUpdown').get_text()\n",
    "    song_name= song.find('a', class_='MMLI_Song').get_text()\n",
    "    singer= song.find('a', class_='MMLIInfo_Artist').get_text()\n",
    "    album= song.find('a', class_='MMLIInfo_Album').get_text()\n",
    "    \n",
    "    page3 = song.find('a')['href']\n",
    "    page3 = urlopen('http://www.mnet.com' + page3)\n",
    "    soup3 = BeautifulSoup(page3, 'html.parser')\n",
    "    s_date= soup3.find('dd').find_all('p')[1].find(class_='right').get_text()\n",
    "    s_date\n",
    "    \n",
    "    \n",
    "    num=num.replace('보합0','0')\n",
    "    num=num.replace('상승','')\n",
    "    num=num.replace('하락','')\n",
    "    if num == '신규진입':\n",
    "        num=0    \n",
    "    if int(num) > 100 :\n",
    "        num = 100\n",
    "    mnet.append([int(rank), int(num), song_name, singer, album, s_date])\n",
    "    \n",
    "    print('순위: ', rank)\n",
    "    print('등락: ', num)\n",
    "    print('곡: ', song_name)\n",
    "    print('가수: ', singer)\n",
    "    print('앨범: ', album)\n",
    "    print('발매일: ', s_date)\n",
    "    print()\n",
    "    \n",
    "for song in song_list2: # mnet은 1-50위, 51-100위 페이지가 다르므로 for문을 두 번 돌림.\n",
    "    \n",
    "    rank= song.find('span', class_='MMLI_RankNum').get_text().strip('위')\n",
    "    num= song.find('td', class_='MMLItemUpdown').get_text()\n",
    "    song_name= song.find('a', class_='MMLI_Song').get_text()\n",
    "    singer= song.find('a', class_='MMLIInfo_Artist').get_text()\n",
    "    album= song.find('a', class_='MMLIInfo_Album').get_text()\n",
    "    \n",
    "    pg3 = song.find('a')['href']\n",
    "    pg3 = urlopen('http://www.mnet.com' + pg3)\n",
    "    soup3 = BeautifulSoup(pg3, 'html.parser')\n",
    "    s_date= soup3.find('dd').find_all('p')[1].find(class_='right').get_text()\n",
    "    s_date\n",
    "    \n",
    "    num=num.replace('보합0','0')\n",
    "    num=num.replace('상승','')\n",
    "    num=num.replace('하락','')\n",
    "    if num == '신규진입':\n",
    "        num=0\n",
    "    if int(num) > 100 :\n",
    "        num = 100\n",
    "    mnet.append([int(rank), int(num), song_name, singer, album, s_date])\n",
    "    \n",
    "    print('순위: ', rank)\n",
    "    print('등락: ', num)\n",
    "    print('곡: ', song_name)\n",
    "    print('가수: ', singer)\n",
    "    print('앨범: ', album)\n",
    "    print('발매일: ', s_date)\n",
    "    print()"
   ]
  },
  {
   "cell_type": "code",
   "execution_count": 3,
   "metadata": {},
   "outputs": [
    {
     "data": {
      "text/html": [
       "<div>\n",
       "<style scoped>\n",
       "    .dataframe tbody tr th:only-of-type {\n",
       "        vertical-align: middle;\n",
       "    }\n",
       "\n",
       "    .dataframe tbody tr th {\n",
       "        vertical-align: top;\n",
       "    }\n",
       "\n",
       "    .dataframe thead th {\n",
       "        text-align: right;\n",
       "    }\n",
       "</style>\n",
       "<table border=\"1\" class=\"dataframe\">\n",
       "  <thead>\n",
       "    <tr style=\"text-align: right;\">\n",
       "      <th></th>\n",
       "      <th>mnet순위</th>\n",
       "      <th>mnet등락</th>\n",
       "      <th>곡</th>\n",
       "      <th>가수</th>\n",
       "      <th>앨범</th>\n",
       "      <th>발매일</th>\n",
       "    </tr>\n",
       "  </thead>\n",
       "  <tbody>\n",
       "    <tr>\n",
       "      <th>0</th>\n",
       "      <td>1</td>\n",
       "      <td>0</td>\n",
       "      <td>꽃 길</td>\n",
       "      <td>BIGBANG</td>\n",
       "      <td>꽃 길</td>\n",
       "      <td>2018.03.13</td>\n",
       "    </tr>\n",
       "    <tr>\n",
       "      <th>1</th>\n",
       "      <td>2</td>\n",
       "      <td>0</td>\n",
       "      <td>별이 빛나는 밤</td>\n",
       "      <td>마마무(Mamamoo)</td>\n",
       "      <td>Yellow Flower</td>\n",
       "      <td>2018.03.07</td>\n",
       "    </tr>\n",
       "    <tr>\n",
       "      <th>2</th>\n",
       "      <td>3</td>\n",
       "      <td>1</td>\n",
       "      <td>Look</td>\n",
       "      <td>GOT7 (갓세븐)</td>\n",
       "      <td>Eyes On You</td>\n",
       "      <td>2018.03.12</td>\n",
       "    </tr>\n",
       "    <tr>\n",
       "      <th>3</th>\n",
       "      <td>4</td>\n",
       "      <td>1</td>\n",
       "      <td>Jenga (Feat. Gaeko)</td>\n",
       "      <td>헤이즈(Heize)</td>\n",
       "      <td>바람</td>\n",
       "      <td>2018.03.08</td>\n",
       "    </tr>\n",
       "    <tr>\n",
       "      <th>4</th>\n",
       "      <td>5</td>\n",
       "      <td>0</td>\n",
       "      <td>내가 더 나빠</td>\n",
       "      <td>헤이즈(Heize)</td>\n",
       "      <td>바람</td>\n",
       "      <td>2018.03.08</td>\n",
       "    </tr>\n",
       "  </tbody>\n",
       "</table>\n",
       "</div>"
      ],
      "text/plain": [
       "   mnet순위  mnet등락                    곡            가수             앨범  \\\n",
       "0       1       0                  꽃 길       BIGBANG            꽃 길   \n",
       "1       2       0             별이 빛나는 밤  마마무(Mamamoo)  Yellow Flower   \n",
       "2       3       1                 Look    GOT7 (갓세븐)    Eyes On You   \n",
       "3       4       1  Jenga (Feat. Gaeko)    헤이즈(Heize)             바람   \n",
       "4       5       0              내가 더 나빠    헤이즈(Heize)             바람   \n",
       "\n",
       "          발매일  \n",
       "0  2018.03.13  \n",
       "1  2018.03.07  \n",
       "2  2018.03.12  \n",
       "3  2018.03.08  \n",
       "4  2018.03.08  "
      ]
     },
     "execution_count": 3,
     "metadata": {},
     "output_type": "execute_result"
    }
   ],
   "source": [
    "import pandas as pd\n",
    "\n",
    "mnet_df=pd.DataFrame(mnet, columns=['mnet순위','mnet등락','곡','가수','앨범','발매일']) #노래 정보 data_frame 만들기\n",
    "mnet_df.head()"
   ]
  },
  {
   "cell_type": "code",
   "execution_count": 4,
   "metadata": {},
   "outputs": [
    {
     "name": "stderr",
     "output_type": "stream",
     "text": [
      "Some characters could not be decoded, and were replaced with REPLACEMENT CHARACTER.\n"
     ]
    }
   ],
   "source": [
    "pg3 = song.find('a')['href'] # 발매일 정보를 가져오기 위해 곡 개별 url 추출\n",
    "pg3 = urlopen('http://www.mnet.com' + pg3)\n",
    "\n",
    "soup3 = BeautifulSoup(pg3, 'html.parser')\n",
    "s_date= soup3.find('dd').find_all('p')[1].find(class_='right').get_text() # 발매일 추출\n",
    "#s_date"
   ]
  },
  {
   "cell_type": "code",
   "execution_count": 5,
   "metadata": {},
   "outputs": [],
   "source": [
    "import matplotlib.pyplot as plt\n",
    "import numpy as np\n",
    "%matplotlib inline\n",
    "\n",
    "import seaborn as sns"
   ]
  },
  {
   "cell_type": "code",
   "execution_count": 6,
   "metadata": {},
   "outputs": [],
   "source": [
    "import platform #os 정보를 가져 올 수 있는 모듈\n",
    "from matplotlib import font_manager, rc\n",
    "# font_manager : 폰트 관리 모듈, rc : 폰트 변경 모듈\n",
    "from matplotlib import pyplot as plt # 시각화 도구\n",
    "%matplotlib inline\n",
    "\n",
    "plt.rcParams['axes.unicode_minus'] = False # 유니코드 표현 설정하기\n",
    "\n",
    "if platform.system() == 'Darwin':\n",
    "    rc('font', family='AppleGothic') # OS가 APPLE(Darwin)이면 AppleGothic으로 폰트 설정\n",
    "elif platform.system() == 'Windows':\n",
    "    path=\"c:/Windows/Fonts/malgun.ttf\" #OS가 윈도우즈면 맑은 고딕으로 설정\n",
    "    font_name = font_manager.FontProperties(fname=path).get_name()\n",
    "    rc('font', family=font_name)\n",
    "else:\n",
    "    print('Unknown System.')"
   ]
  },
  {
   "cell_type": "code",
   "execution_count": 7,
   "metadata": {},
   "outputs": [
    {
     "data": {
      "text/plain": [
       "array([[1.        , 0.44532933],\n",
       "       [0.44532933, 1.        ]])"
      ]
     },
     "execution_count": 7,
     "metadata": {},
     "output_type": "execute_result"
    }
   ],
   "source": [
    "np.corrcoef(mnet_df['mnet순위'], mnet_df['mnet등락']) # 순위와 등락폭은 관계가 있다."
   ]
  },
  {
   "cell_type": "code",
   "execution_count": 8,
   "metadata": {},
   "outputs": [
    {
     "data": {
      "image/png": "[encoded data removed]",
      "text/plain": [
       "<matplotlib.figure.Figure at 0x17973638940>"
      ]
     },
     "metadata": {},
     "output_type": "display_data"
    }
   ],
   "source": [
    "plt.figure(figsize=(13,8))\n",
    "plt.plot(mnet_df['mnet순위'], mnet_df['mnet등락'],color='blue',markersize=12)\n",
    "plt.grid()\n",
    "plt.legend()\n",
    "plt.xlabel('rank')\n",
    "plt.ylabel('num')\n",
    "plt.show()"
   ]
  },
  {
   "cell_type": "code",
   "execution_count": 9,
   "metadata": {},
   "outputs": [
    {
     "data": {
      "image/png": "[encoded data removed]",
      "text/plain": [
       "<matplotlib.figure.Figure at 0x17973a19208>"
      ]
     },
     "metadata": {},
     "output_type": "display_data"
    }
   ],
   "source": [
    "colormap = mnet_df['mnet등락']\n",
    "\n",
    "plt.figure(figsize=(10,6))\n",
    "plt.scatter(mnet_df['mnet순위'], mnet_df['mnet등락'], s=50, c=colormap, marker='>')\n",
    "plt.colorbar()\n",
    "plt.show()"
   ]
  },
  {
   "cell_type": "code",
   "execution_count": 10,
   "metadata": {},
   "outputs": [],
   "source": [
    "page = urlopen('https://www.melon.com/chart/index.htm') # 멜론 실시간 차트 추출\n",
    "soup = BeautifulSoup(page, 'html.parser')\n",
    "song_list = soup.find(id='tb_list').tbody.find_all('tr')"
   ]
  },
  {
   "cell_type": "code",
   "execution_count": 11,
   "metadata": {},
   "outputs": [
    {
     "name": "stdout",
     "output_type": "stream",
     "text": [
      "순위 :  1\n",
      "변동폭 :  0\n",
      "제목 :  꽃 길\n",
      "가수 :  BIGBANG\n",
      "앨범명 :  꽃 길\n",
      "발매일 :  2018.03.13\n",
      "\n",
      "순위 :  2\n",
      "변동폭 :  0\n",
      "제목 :  별이 빛나는 밤\n",
      "가수 :  마마무\n",
      "앨범명 :  Yellow Flower\n",
      "발매일 :  2018.03.07\n",
      "\n",
      "순위 :  3\n",
      "변동폭 :  0\n",
      "제목 :  Jenga (Feat. Gaeko)\n",
      "가수 :  헤이즈 (Heize)\n",
      "앨범명 :  바람\n",
      "발매일 :  2018.03.08\n",
      "\n",
      "순위 :  4\n",
      "변동폭 :  0\n",
      "제목 :  사랑을 했다 (LOVE SCENARIO)\n",
      "가수 :  iKON\n",
      "앨범명 :  Return\n",
      "발매일 :  2018.01.25\n",
      "\n",
      "순위 :  5\n",
      "변동폭 :  0\n",
      "제목 :  뿜뿜\n",
      "가수 :  모모랜드 (MOMOLAND)\n",
      "앨범명 :  GREAT!\n",
      "발매일 :  2018.01.03\n",
      "\n",
      "순위 :  6\n",
      "변동폭 :  0\n",
      "제목 :  그날처럼\n",
      "가수 :  장덕철\n",
      "앨범명 :  그날처럼\n",
      "발매일 :  2017.11.28\n",
      "\n",
      "순위 :  7\n",
      "변동폭 :  0\n",
      "제목 :  내가 더 나빠\n",
      "가수 :  헤이즈 (Heize)\n",
      "앨범명 :  바람\n",
      "발매일 :  2018.03.08\n",
      "\n",
      "순위 :  8\n",
      "변동폭 :  0\n",
      "제목 :  그때 헤어지면 돼\n",
      "가수 :  로이킴\n",
      "앨범명 :  그때 헤어지면 돼\n",
      "발매일 :  2018.02.12\n",
      "\n",
      "순위 :  9\n",
      "변동폭 :  1\n",
      "제목 :  HandClap\n",
      "가수 :  Fitz & The Tantrums\n",
      "앨범명 :  Fitz and The Tantrums (Deluxe)\n",
      "발매일 :  2016.07.28\n",
      "\n",
      "순위 :  10\n",
      "변동폭 :  1\n",
      "제목 :  Bad Boy\n",
      "가수 :  Red Velvet (레드벨벳)\n",
      "앨범명 :  The Perfect Red Velvet - The 2nd Album Repackage\n",
      "발매일 :  2018.01.29\n",
      "\n",
      "순위 :  11\n",
      "변동폭 :  0\n",
      "제목 :  Roller Coaster\n",
      "가수 :  청하\n",
      "앨범명 :  Offset\n",
      "발매일 :  2018.01.17\n",
      "\n",
      "순위 :  12\n",
      "변동폭 :  0\n",
      "제목 :  Havana (Feat. Young Thug)\n",
      "가수 :  Camila Cabello\n",
      "앨범명 :  Camila\n",
      "발매일 :  2018.01.12\n",
      "\n",
      "순위 :  13\n",
      "변동폭 :  1\n",
      "제목 :  약속해요 (I.P.U.)\n",
      "가수 :  Wanna One (워너원)\n",
      "앨범명 :  약속해요 (I.P.U.) - Special Theme Track\n",
      "발매일 :  2018.03.05\n",
      "\n",
      "순위 :  14\n",
      "변동폭 :  1\n",
      "제목 :  선물\n",
      "가수 :  멜로망스\n",
      "앨범명 :  Moonlight\n",
      "발매일 :  2017.07.10\n",
      "\n",
      "순위 :  15\n",
      "변동폭 :  1\n",
      "제목 :  괜찮냐고\n",
      "가수 :  헤이즈 (Heize)\n",
      "앨범명 :  바람\n",
      "발매일 :  2018.03.08\n",
      "\n",
      "순위 :  16\n",
      "변동폭 :  1\n",
      "제목 :  비행운\n",
      "가수 :  문문 (MoonMoon)\n",
      "앨범명 :  LIFE IS BEAUTY FULL\n",
      "발매일 :  2016.11.10\n",
      "\n",
      "순위 :  17\n",
      "변동폭 :  1\n",
      "제목 :  My Way\n",
      "가수 :  이수 (엠씨 더 맥스)\n",
      "앨범명 :  돈꽃 OST Part.1\n",
      "발매일 :  2017.11.11\n",
      "\n",
      "순위 :  18\n",
      "변동폭 :  3\n",
      "제목 :  나타나줘 (Feat. 박재범)\n",
      "가수 :  로꼬\n",
      "앨범명 :  나타나줘\n",
      "발매일 :  2018.03.14\n",
      "\n",
      "순위 :  19\n",
      "변동폭 :  0\n",
      "제목 :  눈사람\n",
      "가수 :  정승환\n",
      "앨범명 :  그리고 봄\n",
      "발매일 :  2018.02.19\n",
      "\n",
      "순위 :  20\n",
      "변동폭 :  0\n",
      "제목 :  instagram\n",
      "가수 :  DEAN\n",
      "앨범명 :  instagram\n",
      "발매일 :  2017.12.26\n",
      "\n",
      "순위 :  21\n",
      "변동폭 :  0\n",
      "제목 :  밤이 되니까\n",
      "가수 :  펀치 (Punch)\n",
      "앨범명 :  밤이 되니까\n",
      "발매일 :  2017.09.29\n",
      "\n",
      "순위 :  22\n",
      "변동폭 :  0\n",
      "제목 :  주인공\n",
      "가수 :  선미\n",
      "앨범명 :  주인공\n",
      "발매일 :  2018.01.18\n",
      "\n",
      "순위 :  23\n",
      "변동폭 :  0\n",
      "제목 :  Beautiful\n",
      "가수 :  Wanna One (워너원)\n",
      "앨범명 :  1-1=0 (NOTHING WITHOUT YOU)\n",
      "발매일 :  2017.11.13\n",
      "\n",
      "순위 :  24\n",
      "변동폭 :  0\n",
      "제목 :  #첫사랑\n",
      "가수 :  볼빨간사춘기\n",
      "앨범명 :  #첫사랑\n",
      "발매일 :  2018.01.10\n",
      "\n",
      "순위 :  25\n",
      "변동폭 :  1\n",
      "제목 :  You\n",
      "가수 :  멜로망스\n",
      "앨범명 :  투유 프로젝트 - 슈가맨2 Part.2\n",
      "발매일 :  2018.01.22\n",
      "\n",
      "순위 :  26\n",
      "변동폭 :  1\n",
      "제목 :  이 별\n",
      "가수 :  길구봉구\n",
      "앨범명 :  Star\n",
      "발매일 :  2017.09.18\n",
      "\n",
      "순위 :  27\n",
      "변동폭 :  0\n",
      "제목 :  가을 안부\n",
      "가수 :  먼데이 키즈\n",
      "앨범명 :  가을 안부\n",
      "발매일 :  2017.10.14\n",
      "\n",
      "순위 :  28\n",
      "변동폭 :  0\n",
      "제목 :  Heart Shaker\n",
      "가수 :  TWICE (트와이스)\n",
      "앨범명 :  Merry & Happy\n",
      "발매일 :  2017.12.11\n",
      "\n",
      "순위 :  29\n",
      "변동폭 :  0\n",
      "제목 :  비도 오고 그래서 (Feat. 신용재)\n",
      "가수 :  헤이즈 (Heize)\n",
      "앨범명 :  /// (너 먹구름 비)\n",
      "발매일 :  2017.06.26\n",
      "\n",
      "순위 :  30\n",
      "변동폭 :  1\n",
      "제목 :  그리워하다\n",
      "가수 :  비투비\n",
      "앨범명 :  Brother Act.\n",
      "발매일 :  2017.10.16\n",
      "\n",
      "순위 :  31\n",
      "변동폭 :  3\n",
      "제목 :  좋니\n",
      "가수 :  윤종신\n",
      "앨범명 :  LISTEN 010 좋니\n",
      "발매일 :  2017.06.22\n",
      "\n",
      "순위 :  32\n",
      "변동폭 :  2\n",
      "제목 :  에너제틱 (Energetic)\n",
      "가수 :  Wanna One (워너원)\n",
      "앨범명 :  1X1=1(TO BE ONE)\n",
      "발매일 :  2017.08.07\n",
      "\n",
      "순위 :  33\n",
      "변동폭 :  1\n",
      "제목 :  DNA\n",
      "가수 :  방탄소년단\n",
      "앨범명 :  LOVE YOURSELF 承 `Her`\n",
      "발매일 :  2017.09.18\n",
      "\n",
      "순위 :  34\n",
      "변동폭 :  1\n",
      "제목 :  눈 떠보니 이별이더라\n",
      "가수 :  포맨\n",
      "앨범명 :  REMEMBER ME\n",
      "발매일 :  2017.10.24\n",
      "\n",
      "순위 :  35\n",
      "변동폭 :  0\n",
      "제목 :  all of my life\n",
      "가수 :  박원\n",
      "앨범명 :  0M\n",
      "발매일 :  2017.07.27\n",
      "\n",
      "순위 :  36\n",
      "변동폭 :  0\n",
      "제목 :  Shape of You\n",
      "가수 :  Ed Sheeran\n",
      "앨범명 :  ÷ (Deluxe)\n",
      "발매일 :  2017.03.03\n",
      "\n",
      "순위 :  37\n",
      "변동폭 :  1\n",
      "제목 :  LIKEY\n",
      "가수 :  TWICE (트와이스)\n",
      "앨범명 :  twicetagram\n",
      "발매일 :  2017.10.30\n",
      "\n",
      "순위 :  38\n",
      "변동폭 :  1\n",
      "제목 :  봄날\n",
      "가수 :  방탄소년단\n",
      "앨범명 :  YOU NEVER WALK ALONE\n",
      "발매일 :  2017.02.13\n",
      "\n",
      "순위 :  39\n",
      "변동폭 :  2\n",
      "제목 :  시차 (We Are) (Feat. 로꼬 & GRAY)\n",
      "가수 :  우원재\n",
      "앨범명 :  시차 (We Are)\n",
      "발매일 :  2017.09.04\n",
      "\n",
      "순위 :  40\n",
      "변동폭 :  0\n",
      "제목 :  밤편지\n",
      "가수 :  아이유\n",
      "앨범명 :  밤편지\n",
      "발매일 :  2017.03.24\n",
      "\n",
      "순위 :  41\n",
      "변동폭 :  2\n",
      "제목 :  다른사람을 사랑하고 있어\n",
      "가수 :  수지 (SUZY)\n",
      "앨범명 :  Faces of Love\n",
      "발매일 :  2018.01.29\n",
      "\n",
      "순위 :  42\n",
      "변동폭 :  0\n",
      "제목 :  기억의 빈자리\n",
      "가수 :  나얼\n",
      "앨범명 :  기억의 빈자리\n",
      "발매일 :  2017.11.29\n",
      "\n",
      "순위 :  43\n",
      "변동폭 :  0\n",
      "제목 :  피카부 (Peek-A-Boo)\n",
      "가수 :  Red Velvet (레드벨벳)\n",
      "앨범명 :  Perfect Velvet - The 2nd Album\n",
      "발매일 :  2017.11.17\n",
      "\n",
      "순위 :  44\n",
      "변동폭 :  4\n",
      "제목 :  좋아\n",
      "가수 :  민서\n",
      "앨범명 :  2017 월간 윤종신 11월호\n",
      "발매일 :  2017.11.15\n",
      "\n",
      "순위 :  45\n",
      "변동폭 :  0\n",
      "제목 :  There`s Nothing Holdin` Me Back\n",
      "가수 :  Shawn Mendes\n",
      "앨범명 :  Illuminate (New Deluxe Ver.)\n",
      "발매일 :  2017.04.21\n",
      "\n",
      "순위 :  46\n",
      "변동폭 :  2\n",
      "제목 :  Look\n",
      "가수 :  GOT7 (갓세븐)\n",
      "앨범명 :  Eyes On You\n",
      "발매일 :  2018.03.12\n",
      "\n",
      "순위 :  47\n",
      "변동폭 :  2\n",
      "제목 :  답장\n",
      "가수 :  김동률\n",
      "앨범명 :  답장\n",
      "발매일 :  2018.01.11\n",
      "\n",
      "순위 :  48\n",
      "변동폭 :  2\n",
      "제목 :  썸 탈꺼야\n",
      "가수 :  볼빨간사춘기\n",
      "앨범명 :  Red Diary Page.1\n",
      "발매일 :  2017.09.28\n",
      "\n",
      "순위 :  49\n",
      "변동폭 :  2\n",
      "제목 :  갖고 싶어\n",
      "가수 :  Wanna One (워너원)\n",
      "앨범명 :  1-1=0 (NOTHING WITHOUT YOU)\n",
      "발매일 :  2017.11.13\n",
      "\n",
      "순위 :  50\n",
      "변동폭 :  2\n",
      "제목 :  노력\n",
      "가수 :  박원\n",
      "앨범명 :  1/24\n",
      "발매일 :  2016.11.17\n",
      "\n",
      "순위 :  51\n",
      "변동폭 :  1\n",
      "제목 :  Universe\n",
      "가수 :  EXO\n",
      "앨범명 :  Universe - 겨울 스페셜 앨범, 2017\n",
      "발매일 :  2017.12.26\n",
      "\n",
      "순위 :  52\n",
      "변동폭 :  2\n",
      "제목 :  바보야\n",
      "가수 :  허각\n",
      "앨범명 :  바보야\n",
      "발매일 :  2017.11.27\n",
      "\n",
      "순위 :  53\n",
      "변동폭 :  2\n",
      "제목 :  별 바람 꽃 태양\n",
      "가수 :  마마무\n",
      "앨범명 :  Yellow Flower\n",
      "발매일 :  2018.03.07\n",
      "\n",
      "순위 :  54\n",
      "변동폭 :  1\n",
      "제목 :  Lonely (Feat. 태연)\n",
      "가수 :  종현 (JONGHYUN)\n",
      "앨범명 :  종현 소품집 `이야기 Op.2`\n",
      "발매일 :  2017.04.24\n",
      "\n",
      "순위 :  55\n",
      "변동폭 :  5\n",
      "제목 :  빨간 맛 (Red Flavor)\n",
      "가수 :  Red Velvet (레드벨벳)\n",
      "앨범명 :  The Red Summer - Summer Mini Album\n",
      "발매일 :  2017.07.09\n",
      "\n",
      "순위 :  56\n",
      "변동폭 :  0\n",
      "제목 :  그때의 나, 그때의 우리\n",
      "가수 :  어반자카파\n",
      "앨범명 :  그때의 나, 그때의 우리\n",
      "발매일 :  2017.11.08\n",
      "\n",
      "순위 :  57\n",
      "변동폭 :  6\n",
      "제목 :  첫눈처럼 너에게 가겠다\n",
      "가수 :  에일리\n",
      "앨범명 :  도깨비 OST Part.9\n",
      "발매일 :  2017.01.07\n",
      "\n",
      "순위 :  58\n",
      "변동폭 :  1\n",
      "제목 :  짙어져\n",
      "가수 :  멜로망스\n",
      "앨범명 :  Yellow OST Part.2\n",
      "발매일 :  2017.10.15\n",
      "\n",
      "순위 :  59\n",
      "변동폭 :  1\n",
      "제목 :  Thunder\n",
      "가수 :  Imagine Dragons\n",
      "앨범명 :  Evolve\n",
      "발매일 :  2018.02.22\n",
      "\n",
      "순위 :  60\n",
      "변동폭 :  1\n",
      "제목 :  마지막처럼\n",
      "가수 :  BLACKPINK\n",
      "앨범명 :  마지막처럼\n",
      "발매일 :  2017.06.22\n",
      "\n",
      "순위 :  61\n",
      "변동폭 :  4\n",
      "제목 :  고맙다\n",
      "가수 :  세븐틴\n",
      "앨범명 :  SEVENTEEN SPECIAL ALBUM `DIRECTOR`S CUT`\n",
      "발매일 :  2018.02.05\n",
      "\n",
      "순위 :  62\n",
      "변동폭 :  5\n",
      "제목 :  잘 살길 바래 (With. DAVII)\n",
      "가수 :  헤이즈 (Heize)\n",
      "앨범명 :  바람\n",
      "발매일 :  2018.03.08\n",
      "\n",
      "순위 :  63\n",
      "변동폭 :  0\n",
      "제목 :  가시나\n",
      "가수 :  선미\n",
      "앨범명 :  SUNMI SPECIAL EDITION `가시나`\n",
      "발매일 :  2017.08.22\n",
      "\n",
      "순위 :  64\n",
      "변동폭 :  2\n",
      "제목 :  바람이 불었으면 좋겠어\n",
      "가수 :  길구봉구\n",
      "앨범명 :  바람이 불었으면 좋겠어\n",
      "발매일 :  2014.01.03\n",
      "\n",
      "순위 :  65\n",
      "변동폭 :  7\n",
      "제목 :  Twilight\n",
      "가수 :  Wanna One (워너원)\n",
      "앨범명 :  1-1=0 (NOTHING WITHOUT YOU)\n",
      "발매일 :  2017.11.13\n",
      "\n",
      "순위 :  66\n",
      "변동폭 :  4\n",
      "제목 :  너 없는 시간들\n",
      "가수 :  다비치\n",
      "앨범명 :  &10\n",
      "발매일 :  2018.01.25\n",
      "\n",
      "순위 :  67\n",
      "변동폭 :  1\n",
      "제목 :  Ko Ko Bop\n",
      "가수 :  EXO\n",
      "앨범명 :  THE WAR - The 4th Album\n",
      "발매일 :  2017.07.18\n",
      "\n",
      "순위 :  68\n",
      "변동폭 :  4\n",
      "제목 :  연애소설 (Feat. 아이유)\n",
      "가수 :  에픽하이 (EPIK HIGH)\n",
      "앨범명 :  WE`VE DONE SOMETHING WONDERFUL\n",
      "발매일 :  2017.10.23\n",
      "\n",
      "순위 :  69\n",
      "변동폭 :  0\n",
      "제목 :  고민보다 Go\n",
      "가수 :  방탄소년단\n",
      "앨범명 :  LOVE YOURSELF 承 `Her`\n",
      "발매일 :  2017.09.18\n",
      "\n",
      "순위 :  70\n",
      "변동폭 :  2\n",
      "제목 :  미안해\n",
      "가수 :  양다일\n",
      "앨범명 :  inside\n",
      "발매일 :  2017.12.29\n",
      "\n",
      "순위 :  71\n",
      "변동폭 :  2\n",
      "제목 :  애쓰지 마요\n",
      "가수 :  박보람\n",
      "앨범명 :  애쓰지 마요\n",
      "발매일 :  2018.02.13\n",
      "\n",
      "순위 :  72\n",
      "변동폭 :  1\n",
      "제목 :  BOSS\n",
      "가수 :  NCT U\n",
      "앨범명 :  NCT 2018 EMPATHY\n",
      "발매일 :  2018.03.14\n",
      "\n",
      "순위 :  73\n",
      "변동폭 :  8\n",
      "제목 :  REALLY REALLY\n",
      "가수 :  WINNER\n",
      "앨범명 :  FATE NUMBER FOR\n",
      "발매일 :  2017.04.04\n",
      "\n",
      "순위 :  74\n",
      "변동폭 :  5\n",
      "제목 :  Action! (Feat. GRAY)\n",
      "가수 :  DPR LIVE\n",
      "앨범명 :  Action!\n",
      "발매일 :  2018.03.13\n",
      "\n",
      "순위 :  75\n",
      "변동폭 :  1\n",
      "제목 :  나의 사춘기에게\n",
      "가수 :  볼빨간사춘기\n",
      "앨범명 :  Red Diary Page.1\n",
      "발매일 :  2017.09.28\n",
      "\n",
      "순위 :  76\n",
      "변동폭 :  6\n",
      "제목 :  MIANHAE\n",
      "가수 :  헤이즈 (Heize)\n",
      "앨범명 :  바람\n",
      "발매일 :  2018.03.08\n",
      "\n",
      "순위 :  77\n",
      "변동폭 :  1\n",
      "제목 :  Closer (Feat. Halsey)\n",
      "가수 :  The Chainsmokers\n",
      "앨범명 :  Collage EP\n",
      "발매일 :  2016.11.05\n",
      "\n",
      "순위 :  78\n",
      "변동폭 :  3\n",
      "제목 :  너 하나만 (Feat. 효린)\n",
      "가수 :  GOT7 (갓세븐)\n",
      "앨범명 :  Eyes On You\n",
      "발매일 :  2018.03.12\n",
      "\n",
      "순위 :  79\n",
      "변동폭 :  2\n",
      "제목 :  Power\n",
      "가수 :  EXO\n",
      "앨범명 :  The Power of Music - The 4th Album Repackage\n",
      "발매일 :  2017.09.05\n",
      "\n",
      "순위 :  80\n",
      "변동폭 :  0\n",
      "제목 :  고무줄다리기 (Rubber Band)\n",
      "가수 :  iKON\n",
      "앨범명 :  고무줄다리기 (Rubber Band)\n",
      "발매일 :  2018.03.05\n",
      "\n",
      "순위 :  81\n",
      "변동폭 :  0\n",
      "제목 :  오늘밤도\n",
      "가수 :  펀치 (Punch)\n",
      "앨범명 :  오늘밤도\n",
      "발매일 :  2018.02.06\n",
      "\n",
      "순위 :  82\n",
      "변동폭 :  4\n",
      "제목 :  MIC Drop\n",
      "가수 :  방탄소년단\n",
      "앨범명 :  LOVE YOURSELF 承 `Her`\n",
      "발매일 :  2017.09.18\n",
      "\n",
      "순위 :  83\n",
      "변동폭 :  0\n",
      "제목 :  She`s gone\n",
      "가수 :  정일훈\n",
      "앨범명 :  Big wave\n",
      "발매일 :  2018.03.08\n",
      "\n",
      "순위 :  84\n",
      "변동폭 :  4\n",
      "제목 :  실례해도 될까요\n",
      "가수 :  장재인\n",
      "앨범명 :  LISTEN 020 실례해도 될까요\n",
      "발매일 :  2018.03.09\n",
      "\n",
      "순위 :  85\n",
      "변동폭 :  6\n",
      "제목 :  그 사람을 아나요\n",
      "가수 :  임창정\n",
      "앨범명 :  그 사람을 아나요\n",
      "발매일 :  2017.10.23\n",
      "\n",
      "순위 :  86\n",
      "변동폭 :  1\n",
      "제목 :  네가 없는 곳\n",
      "가수 :  양요섭\n",
      "앨범명 :  YANG YOSEOP 2ND MINI ALBUM `白`\n",
      "발매일 :  2018.02.19\n",
      "\n",
      "순위 :  87\n",
      "변동폭 :  1\n",
      "제목 :  활활 (Burn It Up)\n",
      "가수 :  Wanna One (워너원)\n",
      "앨범명 :  1X1=1(TO BE ONE)\n",
      "발매일 :  2017.08.07\n",
      "\n",
      "순위 :  88\n",
      "변동폭 :  2\n",
      "제목 :  Nothing Without You (Intro.)\n",
      "가수 :  Wanna One (워너원)\n",
      "앨범명 :  1-1=0 (NOTHING WITHOUT YOU)\n",
      "발매일 :  2017.11.13\n",
      "\n",
      "순위 :  89\n",
      "변동폭 :  4\n",
      "제목 :  My Blossom\n",
      "가수 :  소유 (SOYOU)\n",
      "앨범명 :  My Blossom\n",
      "발매일 :  2018.03.12\n",
      "\n",
      "순위 :  90\n",
      "변동폭 :  1\n",
      "제목 :  비밀정원\n",
      "가수 :  오마이걸\n",
      "앨범명 :  비밀정원\n",
      "발매일 :  2018.01.09\n",
      "\n",
      "순위 :  91\n",
      "변동폭 :  7\n",
      "제목 :  여보세요\n",
      "가수 :  NU`EST\n",
      "앨범명 :  THE SECOND MINI ALBUM `여보세요`\n",
      "발매일 :  2013.02.13\n",
      "\n",
      "순위 :  92\n",
      "변동폭 :  7\n",
      "제목 :  WHERE YOU AT\n",
      "가수 :  뉴이스트 W\n",
      "앨범명 :  W, HERE\n",
      "발매일 :  2017.10.10\n",
      "\n"
     ]
    },
    {
     "name": "stdout",
     "output_type": "stream",
     "text": [
      "순위 :  93\n",
      "변동폭 :  1\n",
      "제목 :  피 땀 눈물\n",
      "가수 :  방탄소년단\n",
      "앨범명 :  WINGS\n",
      "발매일 :  2016.10.10\n",
      "\n",
      "순위 :  94\n",
      "변동폭 :  2\n",
      "제목 :  매일 듣는 노래 (A Daily Song)\n",
      "가수 :  황치열\n",
      "앨범명 :  Be ordinary\n",
      "발매일 :  2017.06.13\n",
      "\n",
      "순위 :  95\n",
      "변동폭 :  3\n",
      "제목 :  빛 (Hope)\n",
      "가수 :  H.O.T.\n",
      "앨범명 :  H.O.T 3\n",
      "발매일 :  1998.09.01\n",
      "\n",
      "순위 :  96\n",
      "변동폭 :  1\n",
      "제목 :  비\n",
      "가수 :  폴킴\n",
      "앨범명 :  비\n",
      "발매일 :  2016.06.21\n",
      "\n",
      "순위 :  97\n",
      "변동폭 :  3\n",
      "제목 :  비가 온다\n",
      "가수 :  정승환\n",
      "앨범명 :  그리고 봄\n",
      "발매일 :  2018.02.19\n",
      "\n",
      "순위 :  98\n",
      "변동폭 :  1\n",
      "제목 :  To Be One (Outro.)\n",
      "가수 :  Wanna One (워너원)\n",
      "앨범명 :  1-1=0 (NOTHING WITHOUT YOU)\n",
      "발매일 :  2017.11.13\n",
      "\n",
      "순위 :  99\n",
      "변동폭 :  0\n",
      "제목 :  팔레트 (Feat. G-DRAGON)\n",
      "가수 :  아이유\n",
      "앨범명 :  Palette\n",
      "발매일 :  2017.04.21\n",
      "\n",
      "순위 :  100\n",
      "변동폭 :  0\n",
      "제목 :  어디에도\n",
      "가수 :  엠씨더맥스\n",
      "앨범명 :  pathos\n",
      "발매일 :  2016.01.28\n",
      "\n"
     ]
    }
   ],
   "source": [
    "melon = []\n",
    "\n",
    "for song in song_list: # 실시간 차트 노래 정보 추출\n",
    "    \n",
    "    rank = song.find(class_ = 'rank').text\n",
    "    updown = song.find(class_ = 'rank_wrap').text.split('\\n')[2]    \n",
    "    title = song.find('div', class_='rank01').a.text\n",
    "    singer = song.find('div', class_='rank02').a.text\n",
    "    album_name = song.find(class_='rank03').a.text\n",
    "\n",
    "    song_num = song['data-song-no']\n",
    "    url = 'https://www.melon.com/song/detail.htm?songId=' + song_num\n",
    "    song_page = urlopen(url)\n",
    "    soup = BeautifulSoup(song_page, 'html.parser')\n",
    "    release_date = soup.find(class_ = 'list').find_all('dd')[1].text\n",
    "\n",
    "    if updown == \"\" :\n",
    "        updown = 0\n",
    "        \n",
    "    melon.append([int(rank), abs(int(updown)), title, singer, album_name, release_date])\n",
    "    \n",
    "    print('순위 : ', rank)\n",
    "    print('변동폭 : ', updown)\n",
    "    print('제목 : ', title)\n",
    "    print('가수 : ', singer)\n",
    "    print('앨범명 : ', album_name)\n",
    "    print('발매일 : ', release_date)\n",
    "    print()"
   ]
  },
  {
   "cell_type": "code",
   "execution_count": 12,
   "metadata": {},
   "outputs": [],
   "source": [
    "melon_df = pd.DataFrame(melon, columns=['melon순위', 'melon변동폭', '곡', 'melon가수', 'melon앨범명', 'melon발매일'])\n",
    "#멜론 노래 목록 데이터프레임 만들기"
   ]
  },
  {
   "cell_type": "code",
   "execution_count": 13,
   "metadata": {},
   "outputs": [],
   "source": [
    "song = song_list[2]\n",
    "song_num =song['data-song-no']\n",
    "url = 'https://www.melon.com/song/detail.htm?songId=' + song_num # 발매일 정보를 얻기 위한 개별 곡 url 추출\n",
    "song_page = urlopen(url)\n",
    "soup = BeautifulSoup(song_page, 'html.parser')"
   ]
  },
  {
   "cell_type": "code",
   "execution_count": 14,
   "metadata": {},
   "outputs": [
    {
     "data": {
      "text/plain": [
       "array([[1.        , 0.43658099],\n",
       "       [0.43658099, 1.        ]])"
      ]
     },
     "execution_count": 14,
     "metadata": {},
     "output_type": "execute_result"
    }
   ],
   "source": [
    "np.corrcoef(melon_df['melon순위'],melon_df['melon변동폭'])  # 순위와 등락폭은 관계가 있다."
   ]
  },
  {
   "cell_type": "code",
   "execution_count": 15,
   "metadata": {},
   "outputs": [
    {
     "data": {
      "image/png": "[encoded data removed]",
      "text/plain": [
       "<matplotlib.figure.Figure at 0x17975294828>"
      ]
     },
     "metadata": {},
     "output_type": "display_data"
    }
   ],
   "source": [
    "plt.figure(figsize=(13, 8))\n",
    "plt.plot(melon_df['melon순위'],melon_df['melon변동폭'],color='red', markersize=12) #마커 꾸며주기 추가\n",
    "plt.grid()\n",
    "plt.legend()\n",
    "plt.xlabel('rank') #x축 라벨 붙이기\n",
    "plt.ylabel('updown') #y축 라벨 붙이기\n",
    "plt.show()"
   ]
  },
  {
   "cell_type": "code",
   "execution_count": 16,
   "metadata": {},
   "outputs": [
    {
     "data": {
      "image/png": "[encoded data removed]",
      "text/plain": [
       "<matplotlib.figure.Figure at 0x179752b4080>"
      ]
     },
     "metadata": {},
     "output_type": "display_data"
    }
   ],
   "source": [
    "colormap = melon_df['melon변동폭']\n",
    "\n",
    "plt.figure(figsize=(10,6))\n",
    "plt.scatter(melon_df['melon순위'], melon_df['melon변동폭'], s=50, c=colormap, marker='>')\n",
    "plt.colorbar()\n",
    "plt.show()"
   ]
  },
  {
   "cell_type": "code",
   "execution_count": 17,
   "metadata": {},
   "outputs": [],
   "source": [
    "page = urlopen('https://music.bugs.co.kr/chart') # 벅스 실시간 차트 추출\n",
    "soup = BeautifulSoup(page, 'html.parser')\n",
    "all_song = soup.find(class_ = 'list trackList byChart').tbody.find_all('tr')"
   ]
  },
  {
   "cell_type": "code",
   "execution_count": 18,
   "metadata": {},
   "outputs": [
    {
     "name": "stdout",
     "output_type": "stream",
     "text": [
      "순위 : 1\n",
      "등락 : 0\n",
      "곡 : 꽃 길\n",
      "가수 : BIGBANG\n",
      "앨범 : 꽃 길\n",
      "발매일 : 2018.03.13\n",
      "\n",
      "순위 : 2\n",
      "등락 : 0\n",
      "곡 : 나타나줘 (Feat. 박재범)\n",
      "가수 : 로꼬\n",
      "앨범 : 나타나줘\n",
      "발매일 : 2018.03.14\n",
      "\n",
      "순위 : 3\n",
      "등락 : 0\n",
      "곡 : 별이 빛나는 밤\n",
      "가수 : 마마무(Mamamoo)\n",
      "앨범 : Yellow Flower\n",
      "발매일 : 2018.03.07\n",
      "\n",
      "순위 : 4\n",
      "등락 : 0\n",
      "곡 : Jenga (Feat. Gaeko)\n",
      "가수 : 헤이즈(HEIZE)\n",
      "앨범 : 바람\n",
      "발매일 : 2018.03.08\n",
      "\n",
      "순위 : 5\n",
      "등락 : 0\n",
      "곡 : My Blossom\n",
      "가수 : 소유 (SOYOU)\n",
      "앨범 : My Blossom\n",
      "발매일 : 2018.03.12\n",
      "\n",
      "순위 : 6\n",
      "등락 : 0\n",
      "곡 : 내가 더 나빠\n",
      "가수 : 헤이즈(HEIZE)\n",
      "앨범 : 바람\n",
      "발매일 : 2018.03.08\n",
      "\n",
      "순위 : 7\n",
      "등락 :  1 \n",
      "곡 : 사랑을 했다 (LOVE SCENARIO)\n",
      "가수 : iKON\n",
      "앨범 : Return\n",
      "발매일 : 2018.01.25\n",
      "\n",
      "순위 : 8\n",
      "등락 :  1 \n",
      "곡 : You\n",
      "가수 : 멜로망스(MeloMance)\n",
      "앨범 : 투유 프로젝트 - 슈가맨2 Part.2\n",
      "발매일 : 2018.01.22\n",
      "\n",
      "순위 : 9\n",
      "등락 : 0\n",
      "곡 : 그때 헤어지면 돼\n",
      "가수 : 로이킴\n",
      "앨범 : 그때 헤어지면 돼\n",
      "발매일 : 2018.02.12\n",
      "\n",
      "순위 : 10\n",
      "등락 : 0\n",
      "곡 : 뿜뿜\n",
      "가수 : 모모랜드(MOMOLAND)\n",
      "앨범 : GREAT!\n",
      "발매일 : 2018.01.03\n",
      "\n",
      "순위 : 11\n",
      "등락 : 0\n",
      "곡 : 그날처럼\n",
      "가수 : 장덕철\n",
      "앨범 : 그날처럼\n",
      "발매일 : 2017.11.28\n",
      "\n",
      "순위 : 12\n",
      "등락 : 0\n",
      "곡 : 괜찮냐고\n",
      "가수 : 헤이즈(HEIZE)\n",
      "앨범 : 바람\n",
      "발매일 : 2018.03.08\n",
      "\n",
      "순위 : 13\n",
      "등락 :  1 \n",
      "곡 : Bad Boy\n",
      "가수 : Red Velvet (레드벨벳)\n",
      "앨범 : The Perfect Red Velvet - The 2nd Album Repackage\n",
      "발매일 : 2018.01.29\n",
      "\n",
      "순위 : 14\n",
      "등락 :  1 \n",
      "곡 : BOSS\n",
      "가수 : NCT U\n",
      "앨범 : NCT 2018 EMPATHY\n",
      "발매일 : 2018.03.14\n",
      "\n",
      "순위 : 15\n",
      "등락 : 0\n",
      "곡 : 눈사람\n",
      "가수 : 정승환\n",
      "앨범 : 그리고 봄\n",
      "발매일 : 2018.02.19\n",
      "\n",
      "순위 : 16\n",
      "등락 : 0\n",
      "곡 : Roller Coaster\n",
      "가수 : 청하\n",
      "앨범 : Offset\n",
      "발매일 : 2018.01.17\n",
      "\n",
      "순위 : 17\n",
      "등락 :  1 \n",
      "곡 : Handclap\n",
      "가수 : Fitz & The Tantrums\n",
      "앨범 : Fitz and The Tantrums [Deluxe]\n",
      "발매일 : 2017.07.28\n",
      "\n",
      "순위 : 18\n",
      "등락 :  6 \n",
      "곡 : My Way\n",
      "가수 : 이수\n",
      "앨범 : 돈꽃 (MBC 토요드라마) OST - Part.1\n",
      "발매일 : 2017.11.11\n",
      "\n",
      "순위 : 19\n",
      "등락 :  2 \n",
      "곡 : 선물\n",
      "가수 : 멜로망스(MeloMance)\n",
      "앨범 : Moonlight\n",
      "발매일 : 2017.07.10\n",
      "\n",
      "순위 : 20\n",
      "등락 :  1 \n",
      "곡 : instagram\n",
      "가수 : DEAN(딘)\n",
      "앨범 : instagram\n",
      "발매일 : 2017.12.26\n",
      "\n",
      "순위 : 21\n",
      "등락 :  4 \n",
      "곡 : 별 바람 꽃 태양\n",
      "가수 : 마마무(Mamamoo)\n",
      "앨범 : Yellow Flower\n",
      "발매일 : 2018.03.07\n",
      "\n",
      "순위 : 22\n",
      "등락 :  2 \n",
      "곡 : 잘 살길 바래 (With. DAVII)\n",
      "가수 : 헤이즈(HEIZE)\n",
      "앨범 : 바람\n",
      "발매일 : 2018.03.08\n",
      "\n",
      "순위 : 23\n",
      "등락 :  1 \n",
      "곡 : 약속해요 (I.P.U.)\n",
      "가수 : Wanna One(워너원)\n",
      "앨범 : 약속해요 (I.P.U.) - Special Theme Track\n",
      "발매일 : 2018.03.05\n",
      "\n",
      "순위 : 24\n",
      "등락 :  1 \n",
      "곡 : Havana (feat. Young Thug)\n",
      "가수 : Camila Cabello(카밀라 카베요)\n",
      "앨범 : Camila\n",
      "발매일 : 2018.01.12\n",
      "\n",
      "순위 : 25\n",
      "등락 :  3 \n",
      "곡 : MIANHAE\n",
      "가수 : 헤이즈(HEIZE)\n",
      "앨범 : 바람\n",
      "발매일 : 2018.03.08\n",
      "\n",
      "순위 : 26\n",
      "등락 :  1 \n",
      "곡 : 비가 온다\n",
      "가수 : 정승환\n",
      "앨범 : 그리고 봄\n",
      "발매일 : 2018.02.19\n",
      "\n",
      "순위 : 27\n",
      "등락 :  4 \n",
      "곡 : 이 별\n",
      "가수 : 길구봉구\n",
      "앨범 : Star\n",
      "발매일 : 2017.09.18\n",
      "\n",
      "순위 : 28\n",
      "등락 :  16 \n",
      "곡 : 좋니\n",
      "가수 : 윤종신\n",
      "앨범 : LISTEN 010 좋니\n",
      "발매일 : 2017.06.22\n",
      "\n",
      "순위 : 29\n",
      "등락 :  2 \n",
      "곡 : TOUCH\n",
      "가수 : NCT 127\n",
      "앨범 : NCT 2018 EMPATHY\n",
      "발매일 : 2018.03.14\n",
      "\n",
      "순위 : 30\n",
      "등락 :  2 \n",
      "곡 : 너 없는 시간들\n",
      "가수 : 다비치\n",
      "앨범 : &10\n",
      "발매일 : 2018.01.25\n",
      "\n",
      "순위 : 31\n",
      "등락 :  2 \n",
      "곡 : 비도 오고 그래서 (Feat. 신용재)\n",
      "가수 : 헤이즈(HEIZE)\n",
      "앨범 : /// (너 먹구름 비)\n",
      "발매일 : 2017.06.26\n",
      "\n",
      "순위 : 32\n",
      "등락 :  2 \n",
      "곡 : 미안해\n",
      "가수 : 양다일\n",
      "앨범 : inside\n",
      "발매일 : 2017.12.29\n",
      "\n",
      "순위 : 33\n",
      "등락 :  3 \n",
      "곡 : 밤편지\n",
      "가수 : 아이유(IU)\n",
      "앨범 : 밤편지\n",
      "발매일 : 2017.03.24\n",
      "\n",
      "순위 : 34\n",
      "등락 :  4 \n",
      "곡 : 눈 떠보니 이별이더라\n",
      "가수 : 포맨\n",
      "앨범 : REMEMBER ME\n",
      "발매일 : 2017.10.24\n",
      "\n",
      "순위 : 35\n",
      "등락 :  6 \n",
      "곡 : all of my life\n",
      "가수 : 박원\n",
      "앨범 : 0M\n",
      "발매일 : 2017.07.27\n",
      "\n",
      "순위 : 36\n",
      "등락 :  10 \n",
      "곡 : 비\n",
      "가수 : 폴킴(Paul Kim)\n",
      "앨범 : 비\n",
      "발매일 : 2016.06.21\n",
      "\n",
      "순위 : 37\n",
      "등락 :  2 \n",
      "곡 : #첫사랑\n",
      "가수 : 볼빨간사춘기\n",
      "앨범 : #첫사랑\n",
      "발매일 : 2018.01.10\n",
      "\n",
      "순위 : 38\n",
      "등락 :  4 \n",
      "곡 : 비행운\n",
      "가수 : 문문(MoonMoon)\n",
      "앨범 : LIFE IS BEAUTY FULL\n",
      "발매일 : 2016.11.10\n",
      "\n",
      "순위 : 39\n",
      "등락 :  13 \n",
      "곡 : 밤이 되니까\n",
      "가수 : 펀치 (Punch)\n",
      "앨범 : 밤이 되니까\n",
      "발매일 : 2017.09.29\n",
      "\n",
      "순위 : 40\n",
      "등락 : 0\n",
      "곡 : 가을 안부\n",
      "가수 : 먼데이 키즈(Monday Kiz)\n",
      "앨범 : 가을 안부\n",
      "발매일 : 2017.10.14\n",
      "\n",
      "순위 : 41\n",
      "등락 :  12 \n",
      "곡 : 주인공\n",
      "가수 : 선미\n",
      "앨범 : 주인공\n",
      "발매일 : 2018.01.18\n",
      "\n",
      "순위 : 42\n",
      "등락 : 0\n",
      "곡 : 아직도 내가 밉니\n",
      "가수 : 피아노맨 (김세정)\n",
      "앨범 : 아직도 내가 밉니\n",
      "발매일 : 2018.03.15\n",
      "\n",
      "순위 : 43\n",
      "등락 :  7 \n",
      "곡 : GO\n",
      "가수 : NCT DREAM\n",
      "앨범 : NCT 2018 EMPATHY\n",
      "발매일 : 2018.03.14\n",
      "\n",
      "순위 : 44\n",
      "등락 :  1 \n",
      "곡 : 비밀정원\n",
      "가수 : 오마이걸(OH MY GIRL)\n",
      "앨범 : 비밀정원\n",
      "발매일 : 2018.01.09\n",
      "\n",
      "순위 : 45\n",
      "등락 :  5 \n",
      "곡 : 봉제선 (Feat. 수란)\n",
      "가수 : 다이나믹 듀오(Dynamic Duo)\n",
      "앨범 : 봉제선\n",
      "발매일 : 2018.02.07\n",
      "\n",
      "순위 : 46\n",
      "등락 :  7 \n",
      "곡 : 짙어져\n",
      "가수 : 멜로망스(MeloMance)\n",
      "앨범 : 옐로우 (Yellow - 웹드라마) OST - Part.2\n",
      "발매일 : 2017.10.15\n",
      "\n",
      "순위 : 47\n",
      "등락 :  4 \n",
      "곡 : 애쓰지 마요\n",
      "가수 : 박보람\n",
      "앨범 : 애쓰지 마요\n",
      "발매일 : 2018.02.13\n",
      "\n",
      "순위 : 48\n",
      "등락 :  1 \n",
      "곡 : DNA\n",
      "가수 : 방탄소년단\n",
      "앨범 : LOVE YOURSELF 承 'Her'\n",
      "발매일 : 2017.09.18\n",
      "\n",
      "순위 : 49\n",
      "등락 :  2 \n",
      "곡 : Baby Don't Stop\n",
      "가수 : NCT U\n",
      "앨범 : NCT 2018 EMPATHY\n",
      "발매일 : 2018.03.14\n",
      "\n",
      "순위 : 50\n",
      "등락 :  4 \n",
      "곡 : 그리워하다\n",
      "가수 : 비투비(BTOB)\n",
      "앨범 : Brother Act.\n",
      "발매일 : 2017.10.16\n",
      "\n",
      "순위 : 51\n",
      "등락 :  9 \n",
      "곡 : 노력\n",
      "가수 : 박원\n",
      "앨범 : 1/24\n",
      "발매일 : 2016.11.17\n",
      "\n",
      "순위 : 52\n",
      "등락 :  3 \n",
      "곡 : Action! (feat. GRAY)\n",
      "가수 : DPR LIVE\n",
      "앨범 : Action!\n",
      "발매일 : 2018.03.13\n",
      "\n",
      "순위 : 53\n",
      "등락 : 0\n",
      "곡 : 봄날\n",
      "가수 : 방탄소년단\n",
      "앨범 : YOU NEVER WALK ALONE\n",
      "발매일 : 2017.02.13\n",
      "\n",
      "순위 : 54\n",
      "등락 :  10 \n",
      "곡 : 오늘밤도\n",
      "가수 : 펀치 (Punch)\n",
      "앨범 : 오늘밤도\n",
      "발매일 : 2018.02.06\n",
      "\n",
      "순위 : 55\n",
      "등락 :  3 \n",
      "곡 : Shape Of You\n",
      "가수 : Ed Sheeran(에드 시런)\n",
      "앨범 : ÷ [Deluxe]\n",
      "발매일 : 2017.03.03\n",
      "\n",
      "순위 : 56\n",
      "등락 :  10 \n",
      "곡 : Thunder\n",
      "가수 : Imagine Dragons(이매진 드래곤스)\n",
      "앨범 : Evolve\n",
      "발매일 : 2018.02.22\n",
      "\n",
      "순위 : 57\n",
      "등락 :  6 \n",
      "곡 : 빛 (Hope)\n",
      "가수 : H.O.T.\n",
      "앨범 : Resurrection\n",
      "발매일 : 1998.09\n",
      "\n",
      "순위 : 58\n",
      "등락 :  21 \n",
      "곡 : Heart Shaker\n",
      "가수 : TWICE (트와이스)\n",
      "앨범 : Merry & Happy\n",
      "발매일 : 2017.12.11\n",
      "\n",
      "순위 : 59\n",
      "등락 :  3 \n",
      "곡 : All The Stars (영화 '블랙 팬서' OST)\n",
      "가수 : Kendrick Lamar(켄드릭 라마)\n",
      "앨범 : 블랙 팬서 더 앨범 (Black Panther The Album Music From And Inspired By)\n",
      "발매일 : 2018.02.09\n",
      "\n",
      "순위 : 60\n",
      "등락 :  4 \n",
      "곡 : 마지막처럼\n",
      "가수 : BLACKPINK\n",
      "앨범 : 마지막처럼\n",
      "발매일 : 2017.06.22\n",
      "\n",
      "순위 : 61\n",
      "등락 :  8 \n",
      "곡 : Look\n",
      "가수 : GOT7 (갓세븐)\n",
      "앨범 : Eyes On You\n",
      "발매일 : 2018.03.12\n",
      "\n",
      "순위 : 62\n",
      "등락 :  1 \n",
      "곡 : There's Nothing Holdin' Me Back\n",
      "가수 : Shawn Mendes(션 멘데스)\n",
      "앨범 : Illuminate [New Deluxe Ver.]\n",
      "발매일 : 2017.04.21\n",
      "\n",
      "순위 : 63\n",
      "등락 :  15 \n",
      "곡 : 후유증\n",
      "가수 : 민경훈\n",
      "앨범 : 후유증\n",
      "발매일 : 2018.02.17\n",
      "\n",
      "순위 : 64\n",
      "등락 :  16 \n",
      "곡 : LIKEY\n",
      "가수 : TWICE (트와이스)\n",
      "앨범 : twicetagram\n",
      "발매일 : 2017.10.30\n",
      "\n",
      "순위 : 65\n",
      "등락 :  2 \n",
      "곡 : 기억의 빈자리\n",
      "가수 : 나얼(Na-Ul)\n",
      "앨범 : 기억의 빈자리\n",
      "발매일 : 2017.11.29\n",
      "\n",
      "순위 : 66\n",
      "등락 :  14 \n",
      "곡 : 답장\n",
      "가수 : 김동률\n",
      "앨범 : 답장\n",
      "발매일 : 2018.01.11\n",
      "\n",
      "순위 : 67\n",
      "등락 :  18 \n",
      "곡 : 좋아\n",
      "가수 : 민서\n",
      "앨범 : 2017 월간 윤종신 11월호\n",
      "발매일 : 2017.11.15\n",
      "\n",
      "순위 : 68\n",
      "등락 :  19 \n",
      "곡 : 다른사람을 사랑하고 있어\n",
      "가수 : 수지(SUZY)\n",
      "앨범 : Faces of Love\n",
      "발매일 : 2018.01.29\n",
      "\n",
      "순위 : 69\n",
      "등락 :  14 \n",
      "곡 : 첫눈처럼 너에게 가겠다\n",
      "가수 : 에일리(Ailee)\n",
      "앨범 : 도깨비 (tvN 금토드라마) OST - Part.9\n",
      "발매일 : 2017.01.07\n",
      "\n",
      "순위 : 70\n",
      "등락 :  11 \n",
      "곡 : FRIENDS\n",
      "가수 : Marshmello(마시멜로)\n",
      "앨범 : FRIENDS\n",
      "발매일 : 2018.02.09\n",
      "\n",
      "순위 : 71\n",
      "등락 :  14 \n",
      "곡 : 피카부 (Peek-A-Boo)\n",
      "가수 : Red Velvet (레드벨벳)\n",
      "앨범 : Perfect Velvet - The 2nd Album\n",
      "발매일 : 2017.11.17\n",
      "\n",
      "순위 : 72\n",
      "등락 :  14 \n",
      "곡 : 고무줄다리기 (Rubber Band)\n",
      "가수 : iKON\n",
      "앨범 : 고무줄다리기 (Rubber Band)\n",
      "발매일 : 2018.03.05\n",
      "\n",
      "순위 : 73\n",
      "등락 :  23 \n",
      "곡 : 꿈꾸는 마음으로\n",
      "가수 : 우주소녀\n",
      "앨범 : Dream Your Dream\n",
      "발매일 : 2018.02.27\n",
      "\n",
      "순위 : 74\n",
      "등락 :  14 \n",
      "곡 : 너였다면\n",
      "가수 : 정승환\n",
      "앨범 : 또 오해영 (tvN 월화드라마) OST - Part.5\n",
      "발매일 : 2016.05.31\n",
      "\n",
      "순위 : 75\n",
      "등락 :  4 \n",
      "곡 : Candy (캔디)\n",
      "가수 : H.O.T.\n",
      "앨범 : We Hate All Kinds Of Violence\n",
      "발매일 : 1996.09\n",
      "\n",
      "순위 : 76\n",
      "등락 :  10 \n",
      "곡 : 시차 (We Are) (Feat. 로꼬 & GRAY)\n",
      "가수 : 우원재\n",
      "앨범 : 시차 (We Are)\n",
      "발매일 : 2017.09.04\n",
      "\n",
      "순위 : 77\n",
      "등락 :  5 \n",
      "곡 : 빨간 맛 (Red Flavor)\n",
      "가수 : Red Velvet (레드벨벳)\n",
      "앨범 : The Red Summer - Summer Mini Album\n",
      "발매일 : 2017.07.09\n",
      "\n",
      "순위 : 78\n",
      "등락 :  5 \n",
      "곡 : 바보야\n",
      "가수 : 허각\n",
      "앨범 : 바보야\n",
      "발매일 : 2017.11.27\n",
      "\n",
      "순위 : 79\n",
      "등락 :  30 \n",
      "곡 : REALLY REALLY\n",
      "가수 : WINNER\n",
      "앨범 : FATE NUMBER FOR\n",
      "발매일 : 2017.04.04\n",
      "\n",
      "순위 : 80\n",
      "등락 :  2 \n",
      "곡 : 나의 사춘기에게\n",
      "가수 : 볼빨간사춘기\n",
      "앨범 : Red Diary Page.1\n",
      "발매일 : 2017.09.28\n",
      "\n",
      "순위 : 81\n",
      "등락 :  8 \n",
      "곡 : 벚꽃 엔딩\n",
      "가수 : 버스커 버스커(Busker Busker)\n",
      "앨범 : 버스커 버스커 1집\n",
      "발매일 : 2012.03.29\n",
      "\n",
      "순위 : 82\n",
      "등락 :  14 \n",
      "곡 : Closer (feat. Halsey)\n",
      "가수 : The Chainsmokers(체인스모커스)\n",
      "앨범 : Collage\n",
      "발매일 : 2016.11.05\n",
      "\n",
      "순위 : 83\n",
      "등락 :  18 \n",
      "곡 : 연애소설 (Feat. 아이유)\n",
      "가수 : 에픽하이 (EPIK HIGH)\n",
      "앨범 : WE'VE DONE SOMETHING WONDERFUL\n",
      "발매일 : 2017.10.23\n",
      "\n",
      "순위 : 84\n",
      "등락 :  6 \n",
      "곡 : 팔레트 (Feat. G-DRAGON)\n",
      "가수 : 아이유(IU)\n",
      "앨범 : Palette\n",
      "발매일 : 2017.04.21\n",
      "\n",
      "순위 : 85\n",
      "등락 :  10 \n",
      "곡 : 좋았을걸\n",
      "가수 : 헤이즈(HEIZE)\n",
      "앨범 : 슬기로운 감빵생활 (tvN 수목드라마) OST - Part.5\n",
      "발매일 : 2017.12.14\n",
      "\n",
      "순위 : 86\n",
      "등락 :  9 \n",
      "곡 : 폰서트\n",
      "가수 : 10cm(십센치)\n",
      "앨범 : 4.0\n",
      "발매일 : 2017.09.01\n",
      "\n",
      "순위 : 87\n",
      "등락 :  13 \n",
      "곡 : 한숨\n",
      "가수 : 이하이\n",
      "앨범 : SEOULITE\n",
      "발매일 : 2016.03.09\n",
      "\n",
      "순위 : 88\n",
      "등락 :  6 \n",
      "곡 : 다시 쓰고 싶어\n",
      "가수 : 에일리(Ailee)\n",
      "앨범 : 이런 꽃 같은 엔딩 (웹드라마) OST - Part.3\n",
      "발매일 : 2018.02.09\n",
      "\n",
      "순위 : 89\n",
      "등락 :  8 \n",
      "곡 : HOLIDAY (Feat. DPR LIVE)\n",
      "가수 : 수지(SUZY)\n",
      "앨범 : Faces of Love\n",
      "발매일 : 2018.01.29\n",
      "\n",
      "순위 : 90\n",
      "등락 :  14 \n",
      "곡 : 썸 탈꺼야\n",
      "가수 : 볼빨간사춘기\n",
      "앨범 : Red Diary Page.1\n",
      "발매일 : 2017.09.28\n",
      "\n",
      "순위 : 91\n",
      "등락 :  2 \n",
      "곡 : Lonely (Feat. 태연)\n",
      "가수 : 종현 (JONGHYUN)\n",
      "앨범 : 종현 소품집 '이야기 Op.2'\n",
      "발매일 : 2017.04.24\n",
      "\n",
      "순위 : 92\n",
      "등락 :  1 \n",
      "곡 : 결혼\n",
      "가수 : 문문(MoonMoon)\n",
      "앨범 : 이번 생은 처음이라 (tvN 월화드라마) OST - Part.4\n",
      "발매일 : 2017.10.24\n",
      "\n",
      "순위 : 93\n",
      "등락 :  14 \n",
      "곡 : 사랑은 아프다\n",
      "가수 : 이승철\n",
      "앨범 : 미스티 (JTBC 금토드라마) OST - Part.1\n",
      "발매일 : 2018.02.17\n",
      "\n",
      "순위 : 94\n",
      "등락 :  19 \n",
      "곡 : What Lovers Do (feat. SZA)\n",
      "가수 : Maroon 5(마룬 파이브)\n",
      "앨범 : Red Pill Blues [Deluxe Edition]\n",
      "발매일 : 2017.11.03\n",
      "\n",
      "순위 : 95\n",
      "등락 :  25 \n",
      "곡 : 그때의 나, 그때의 우리\n",
      "가수 : 어반 자카파(Urban Zakapa)\n",
      "앨범 : 그때의 나, 그때의 우리\n",
      "발매일 : 2017.11.08\n",
      "\n",
      "순위 : 96\n",
      "등락 :  3 \n",
      "곡 : True Love\n",
      "가수 : 김성규\n",
      "앨범 : 1st Album '10 Stories'\n",
      "발매일 : 2018.02.26\n",
      "\n",
      "순위 : 97\n",
      "등락 :  13 \n",
      "곡 : 고민보다 Go\n",
      "가수 : 방탄소년단\n",
      "앨범 : LOVE YOURSELF 承 'Her'\n",
      "발매일 : 2017.09.18\n",
      "\n",
      "순위 : 98\n",
      "등락 :  17 \n",
      "곡 : 이별 뒷면\n",
      "가수 : 권진아\n",
      "앨범 : 이런 꽃 같은 엔딩 (웹드라마) OST - Part.2\n",
      "발매일 : 2018.02.02\n",
      "\n"
     ]
    },
    {
     "name": "stdout",
     "output_type": "stream",
     "text": [
      "순위 : 99\n",
      "등락 :  7 \n",
      "곡 : Perhaps Love (사랑인가요) (Prod.By 박근태)\n",
      "가수 : 에릭남(Eric Nam)\n",
      "앨범 : Your BGM Vol.1\n",
      "발매일 : 2017.09.29\n",
      "\n",
      "순위 : 100\n",
      "등락 :  4 \n",
      "곡 : 파랑새\n",
      "가수 : 에이프릴(APRIL)\n",
      "앨범 : 에이프릴(APRIL) 5th Mini Album 'The Blue'\n",
      "발매일 : 2018.03.12\n",
      "\n"
     ]
    }
   ],
   "source": [
    "import re\n",
    "\n",
    "bugs=[]\n",
    "\n",
    "for song in all_song: # 실시간 차트에서 노래 정보 가져오기\n",
    "    rank = int(song.find('strong').get_text())\n",
    "    updown = song.find('p', class_='change').get_text()\n",
    "    title = song.find('th', scope='row').get_text().strip()\n",
    "    singer = ' '.join(list(set(re.split('\\r\\n|\\n',song.find('p', class_='artist').get_text().strip())))).strip()\n",
    "    album = song.find('a', class_='album').get_text()\n",
    "    \n",
    "    if '없음' in updown:\n",
    "        updown = updown.replace(\"변동없음\",\"\")\n",
    "    elif '상승'in updown:\n",
    "        updown = updown.replace(\"계단 상승\", \"\")\n",
    "    elif '하락' in updown:\n",
    "        updown = updown.replace(\"계단 하락\", \"\")\n",
    "    else:\n",
    "        updown = 0\n",
    "       \n",
    "    \n",
    "    #앨범 발매일\n",
    "    album_page = song.find('a')['href']\n",
    "    page_open= urlopen(album_page)\n",
    "    album_pg = BeautifulSoup(page_open, 'html.parser')\n",
    "    r_date = album_pg.find('tbody').find('time').text\n",
    "    \n",
    "    bugs.append([rank, int(updown), title, singer, album, r_date])\n",
    "        \n",
    "    print('순위 :', rank)\n",
    "    print('등락 :', updown)\n",
    "    print('곡 :', title)\n",
    "    print('가수 :', singer)\n",
    "    print('앨범 :', album)\n",
    "    print('발매일 :', r_date)\n",
    "    print()"
   ]
  },
  {
   "cell_type": "code",
   "execution_count": 19,
   "metadata": {},
   "outputs": [],
   "source": [
    "bugs_df = pd.DataFrame(bugs, columns=['bugs순위','bugs등락','곡','bugs가수','bugs앨범','bugs발매일'])\n",
    "# 벅스 실시간 차트 정보를 담는 데이터 프레임 만들기"
   ]
  },
  {
   "cell_type": "code",
   "execution_count": 20,
   "metadata": {},
   "outputs": [
    {
     "data": {
      "text/plain": [
       "array([[1.        , 0.59287199],\n",
       "       [0.59287199, 1.        ]])"
      ]
     },
     "execution_count": 20,
     "metadata": {},
     "output_type": "execute_result"
    }
   ],
   "source": [
    "np.corrcoef(bugs_df['bugs순위'], bugs_df['bugs등락']) # 순위와 등락폭은 관계가 있다."
   ]
  },
  {
   "cell_type": "code",
   "execution_count": 21,
   "metadata": {},
   "outputs": [
    {
     "data": {
      "image/png": "[encoded data removed]",
      "text/plain": [
       "<matplotlib.figure.Figure at 0x179754b6f60>"
      ]
     },
     "metadata": {},
     "output_type": "display_data"
    }
   ],
   "source": [
    "plt.figure(figsize=(13,8))\n",
    "plt.plot(bugs_df['bugs순위'], bugs_df['bugs등락'], color='purple', markersize=12)\n",
    "plt.grid()\n",
    "plt.legend(loc='best')\n",
    "plt.xlabel('순위')\n",
    "plt.ylabel('등락')\n",
    "plt.show()"
   ]
  },
  {
   "cell_type": "code",
   "execution_count": 22,
   "metadata": {},
   "outputs": [
    {
     "data": {
      "image/png": "[encoded data removed]",
      "text/plain": [
       "<matplotlib.figure.Figure at 0x179757d6b70>"
      ]
     },
     "metadata": {},
     "output_type": "display_data"
    }
   ],
   "source": [
    "colormap = bugs_df['bugs등락']\n",
    "\n",
    "plt.figure(figsize=(10,6))\n",
    "plt.scatter(bugs_df['bugs순위'], bugs_df['bugs등락'], s=50, c=colormap, marker='>')\n",
    "plt.colorbar()\n",
    "plt.show()"
   ]
  },
  {
   "cell_type": "code",
   "execution_count": 23,
   "metadata": {},
   "outputs": [],
   "source": [
    "result_df = pd.merge(mnet_df, melon_df, on='곡') # 엠넷-멜론의 차트 정보를 곡명을 기준으로 합친다.\n",
    "#result_df"
   ]
  },
  {
   "cell_type": "code",
   "execution_count": 24,
   "metadata": {},
   "outputs": [
    {
     "data": {
      "text/html": [
       "<div>\n",
       "<style scoped>\n",
       "    .dataframe tbody tr th:only-of-type {\n",
       "        vertical-align: middle;\n",
       "    }\n",
       "\n",
       "    .dataframe tbody tr th {\n",
       "        vertical-align: top;\n",
       "    }\n",
       "\n",
       "    .dataframe thead th {\n",
       "        text-align: right;\n",
       "    }\n",
       "</style>\n",
       "<table border=\"1\" class=\"dataframe\">\n",
       "  <thead>\n",
       "    <tr style=\"text-align: right;\">\n",
       "      <th></th>\n",
       "      <th>mnet순위</th>\n",
       "      <th>mnet등락</th>\n",
       "      <th>곡</th>\n",
       "      <th>가수</th>\n",
       "      <th>앨범</th>\n",
       "      <th>발매일</th>\n",
       "      <th>melon순위</th>\n",
       "      <th>melon변동폭</th>\n",
       "      <th>melon가수</th>\n",
       "      <th>melon앨범명</th>\n",
       "      <th>melon발매일</th>\n",
       "      <th>bugs순위</th>\n",
       "      <th>bugs등락</th>\n",
       "      <th>bugs가수</th>\n",
       "      <th>bugs앨범</th>\n",
       "      <th>bugs발매일</th>\n",
       "    </tr>\n",
       "  </thead>\n",
       "  <tbody>\n",
       "    <tr>\n",
       "      <th>0</th>\n",
       "      <td>1</td>\n",
       "      <td>0</td>\n",
       "      <td>꽃 길</td>\n",
       "      <td>BIGBANG</td>\n",
       "      <td>꽃 길</td>\n",
       "      <td>2018.03.13</td>\n",
       "      <td>1</td>\n",
       "      <td>0</td>\n",
       "      <td>BIGBANG</td>\n",
       "      <td>꽃 길</td>\n",
       "      <td>2018.03.13</td>\n",
       "      <td>1</td>\n",
       "      <td>0</td>\n",
       "      <td>BIGBANG</td>\n",
       "      <td>꽃 길</td>\n",
       "      <td>2018.03.13</td>\n",
       "    </tr>\n",
       "    <tr>\n",
       "      <th>1</th>\n",
       "      <td>2</td>\n",
       "      <td>0</td>\n",
       "      <td>별이 빛나는 밤</td>\n",
       "      <td>마마무(Mamamoo)</td>\n",
       "      <td>Yellow Flower</td>\n",
       "      <td>2018.03.07</td>\n",
       "      <td>2</td>\n",
       "      <td>0</td>\n",
       "      <td>마마무</td>\n",
       "      <td>Yellow Flower</td>\n",
       "      <td>2018.03.07</td>\n",
       "      <td>3</td>\n",
       "      <td>0</td>\n",
       "      <td>마마무(Mamamoo)</td>\n",
       "      <td>Yellow Flower</td>\n",
       "      <td>2018.03.07</td>\n",
       "    </tr>\n",
       "    <tr>\n",
       "      <th>2</th>\n",
       "      <td>3</td>\n",
       "      <td>1</td>\n",
       "      <td>Look</td>\n",
       "      <td>GOT7 (갓세븐)</td>\n",
       "      <td>Eyes On You</td>\n",
       "      <td>2018.03.12</td>\n",
       "      <td>46</td>\n",
       "      <td>2</td>\n",
       "      <td>GOT7 (갓세븐)</td>\n",
       "      <td>Eyes On You</td>\n",
       "      <td>2018.03.12</td>\n",
       "      <td>61</td>\n",
       "      <td>8</td>\n",
       "      <td>GOT7 (갓세븐)</td>\n",
       "      <td>Eyes On You</td>\n",
       "      <td>2018.03.12</td>\n",
       "    </tr>\n",
       "    <tr>\n",
       "      <th>3</th>\n",
       "      <td>4</td>\n",
       "      <td>1</td>\n",
       "      <td>Jenga (Feat. Gaeko)</td>\n",
       "      <td>헤이즈(Heize)</td>\n",
       "      <td>바람</td>\n",
       "      <td>2018.03.08</td>\n",
       "      <td>3</td>\n",
       "      <td>0</td>\n",
       "      <td>헤이즈 (Heize)</td>\n",
       "      <td>바람</td>\n",
       "      <td>2018.03.08</td>\n",
       "      <td>4</td>\n",
       "      <td>0</td>\n",
       "      <td>헤이즈(HEIZE)</td>\n",
       "      <td>바람</td>\n",
       "      <td>2018.03.08</td>\n",
       "    </tr>\n",
       "    <tr>\n",
       "      <th>4</th>\n",
       "      <td>5</td>\n",
       "      <td>0</td>\n",
       "      <td>내가 더 나빠</td>\n",
       "      <td>헤이즈(Heize)</td>\n",
       "      <td>바람</td>\n",
       "      <td>2018.03.08</td>\n",
       "      <td>7</td>\n",
       "      <td>0</td>\n",
       "      <td>헤이즈 (Heize)</td>\n",
       "      <td>바람</td>\n",
       "      <td>2018.03.08</td>\n",
       "      <td>6</td>\n",
       "      <td>0</td>\n",
       "      <td>헤이즈(HEIZE)</td>\n",
       "      <td>바람</td>\n",
       "      <td>2018.03.08</td>\n",
       "    </tr>\n",
       "    <tr>\n",
       "      <th>5</th>\n",
       "      <td>6</td>\n",
       "      <td>5</td>\n",
       "      <td>사랑을 했다 (LOVE SCENARIO)</td>\n",
       "      <td>iKON</td>\n",
       "      <td>Return</td>\n",
       "      <td>2018.01.25</td>\n",
       "      <td>4</td>\n",
       "      <td>0</td>\n",
       "      <td>iKON</td>\n",
       "      <td>Return</td>\n",
       "      <td>2018.01.25</td>\n",
       "      <td>7</td>\n",
       "      <td>1</td>\n",
       "      <td>iKON</td>\n",
       "      <td>Return</td>\n",
       "      <td>2018.01.25</td>\n",
       "    </tr>\n",
       "    <tr>\n",
       "      <th>6</th>\n",
       "      <td>7</td>\n",
       "      <td>0</td>\n",
       "      <td>나타나줘 (Feat. 박재범)</td>\n",
       "      <td>로꼬</td>\n",
       "      <td>나타나줘</td>\n",
       "      <td>2018.03.14</td>\n",
       "      <td>18</td>\n",
       "      <td>3</td>\n",
       "      <td>로꼬</td>\n",
       "      <td>나타나줘</td>\n",
       "      <td>2018.03.14</td>\n",
       "      <td>2</td>\n",
       "      <td>0</td>\n",
       "      <td>로꼬</td>\n",
       "      <td>나타나줘</td>\n",
       "      <td>2018.03.14</td>\n",
       "    </tr>\n",
       "    <tr>\n",
       "      <th>7</th>\n",
       "      <td>8</td>\n",
       "      <td>2</td>\n",
       "      <td>You</td>\n",
       "      <td>멜로망스(Melomance)</td>\n",
       "      <td>투유 프로젝트 - 슈가맨2 Part 2</td>\n",
       "      <td>2018.01.22</td>\n",
       "      <td>25</td>\n",
       "      <td>1</td>\n",
       "      <td>멜로망스</td>\n",
       "      <td>투유 프로젝트 - 슈가맨2 Part.2</td>\n",
       "      <td>2018.01.22</td>\n",
       "      <td>8</td>\n",
       "      <td>1</td>\n",
       "      <td>멜로망스(MeloMance)</td>\n",
       "      <td>투유 프로젝트 - 슈가맨2 Part.2</td>\n",
       "      <td>2018.01.22</td>\n",
       "    </tr>\n",
       "    <tr>\n",
       "      <th>8</th>\n",
       "      <td>9</td>\n",
       "      <td>1</td>\n",
       "      <td>My Blossom</td>\n",
       "      <td>소유(SOYOU)</td>\n",
       "      <td>My Blossom</td>\n",
       "      <td>2018.03.12</td>\n",
       "      <td>89</td>\n",
       "      <td>4</td>\n",
       "      <td>소유 (SOYOU)</td>\n",
       "      <td>My Blossom</td>\n",
       "      <td>2018.03.12</td>\n",
       "      <td>5</td>\n",
       "      <td>0</td>\n",
       "      <td>소유 (SOYOU)</td>\n",
       "      <td>My Blossom</td>\n",
       "      <td>2018.03.12</td>\n",
       "    </tr>\n",
       "    <tr>\n",
       "      <th>9</th>\n",
       "      <td>11</td>\n",
       "      <td>1</td>\n",
       "      <td>뿜뿜</td>\n",
       "      <td>모모랜드(MOMOLAND)</td>\n",
       "      <td>GREAT!</td>\n",
       "      <td>2018.01.03</td>\n",
       "      <td>5</td>\n",
       "      <td>0</td>\n",
       "      <td>모모랜드 (MOMOLAND)</td>\n",
       "      <td>GREAT!</td>\n",
       "      <td>2018.01.03</td>\n",
       "      <td>10</td>\n",
       "      <td>0</td>\n",
       "      <td>모모랜드(MOMOLAND)</td>\n",
       "      <td>GREAT!</td>\n",
       "      <td>2018.01.03</td>\n",
       "    </tr>\n",
       "  </tbody>\n",
       "</table>\n",
       "</div>"
      ],
      "text/plain": [
       "   mnet순위  mnet등락                       곡               가수  \\\n",
       "0       1       0                     꽃 길          BIGBANG   \n",
       "1       2       0                별이 빛나는 밤     마마무(Mamamoo)   \n",
       "2       3       1                    Look       GOT7 (갓세븐)   \n",
       "3       4       1     Jenga (Feat. Gaeko)       헤이즈(Heize)   \n",
       "4       5       0                 내가 더 나빠       헤이즈(Heize)   \n",
       "5       6       5  사랑을 했다 (LOVE SCENARIO)             iKON   \n",
       "6       7       0        나타나줘 (Feat. 박재범)               로꼬   \n",
       "7       8       2                     You  멜로망스(Melomance)   \n",
       "8       9       1              My Blossom        소유(SOYOU)   \n",
       "9      11       1                      뿜뿜   모모랜드(MOMOLAND)   \n",
       "\n",
       "                      앨범         발매일  melon순위  melon변동폭          melon가수  \\\n",
       "0                    꽃 길  2018.03.13        1         0          BIGBANG   \n",
       "1          Yellow Flower  2018.03.07        2         0              마마무   \n",
       "2            Eyes On You  2018.03.12       46         2       GOT7 (갓세븐)   \n",
       "3                     바람  2018.03.08        3         0      헤이즈 (Heize)   \n",
       "4                     바람  2018.03.08        7         0      헤이즈 (Heize)   \n",
       "5                 Return  2018.01.25        4         0             iKON   \n",
       "6                   나타나줘  2018.03.14       18         3               로꼬   \n",
       "7  투유 프로젝트 - 슈가맨2 Part 2  2018.01.22       25         1             멜로망스   \n",
       "8             My Blossom  2018.03.12       89         4       소유 (SOYOU)   \n",
       "9                 GREAT!  2018.01.03        5         0  모모랜드 (MOMOLAND)   \n",
       "\n",
       "                melon앨범명    melon발매일  bugs순위  bugs등락           bugs가수  \\\n",
       "0                    꽃 길  2018.03.13       1       0          BIGBANG   \n",
       "1          Yellow Flower  2018.03.07       3       0     마마무(Mamamoo)   \n",
       "2            Eyes On You  2018.03.12      61       8       GOT7 (갓세븐)   \n",
       "3                     바람  2018.03.08       4       0       헤이즈(HEIZE)   \n",
       "4                     바람  2018.03.08       6       0       헤이즈(HEIZE)   \n",
       "5                 Return  2018.01.25       7       1             iKON   \n",
       "6                   나타나줘  2018.03.14       2       0               로꼬   \n",
       "7  투유 프로젝트 - 슈가맨2 Part.2  2018.01.22       8       1  멜로망스(MeloMance)   \n",
       "8             My Blossom  2018.03.12       5       0       소유 (SOYOU)   \n",
       "9                 GREAT!  2018.01.03      10       0   모모랜드(MOMOLAND)   \n",
       "\n",
       "                  bugs앨범     bugs발매일  \n",
       "0                    꽃 길  2018.03.13  \n",
       "1          Yellow Flower  2018.03.07  \n",
       "2            Eyes On You  2018.03.12  \n",
       "3                     바람  2018.03.08  \n",
       "4                     바람  2018.03.08  \n",
       "5                 Return  2018.01.25  \n",
       "6                   나타나줘  2018.03.14  \n",
       "7  투유 프로젝트 - 슈가맨2 Part.2  2018.01.22  \n",
       "8             My Blossom  2018.03.12  \n",
       "9                 GREAT!  2018.01.03  "
      ]
     },
     "execution_count": 24,
     "metadata": {},
     "output_type": "execute_result"
    }
   ],
   "source": [
    "result_df = pd.merge(result_df, bugs_df, on='곡') # 3사의 차트 정보를 곡명을 기준으로 합친다.\n",
    "result_df.head(10)"
   ]
  },
  {
   "cell_type": "code",
   "execution_count": 25,
   "metadata": {},
   "outputs": [],
   "source": [
    "del result_df['melon가수'] # 필요없는 컬럼들 지우기\n",
    "del result_df['melon앨범명']\n",
    "del result_df['melon발매일']"
   ]
  },
  {
   "cell_type": "code",
   "execution_count": 26,
   "metadata": {},
   "outputs": [],
   "source": [
    "del result_df['bugs가수']\n",
    "del result_df['bugs앨범']\n",
    "del result_df['bugs발매일']"
   ]
  },
  {
   "cell_type": "code",
   "execution_count": 27,
   "metadata": {
    "scrolled": true
   },
   "outputs": [
    {
     "data": {
      "text/html": [
       "<div>\n",
       "<style scoped>\n",
       "    .dataframe tbody tr th:only-of-type {\n",
       "        vertical-align: middle;\n",
       "    }\n",
       "\n",
       "    .dataframe tbody tr th {\n",
       "        vertical-align: top;\n",
       "    }\n",
       "\n",
       "    .dataframe thead th {\n",
       "        text-align: right;\n",
       "    }\n",
       "</style>\n",
       "<table border=\"1\" class=\"dataframe\">\n",
       "  <thead>\n",
       "    <tr style=\"text-align: right;\">\n",
       "      <th></th>\n",
       "      <th>mnet순위</th>\n",
       "      <th>mnet등락</th>\n",
       "      <th>곡</th>\n",
       "      <th>가수</th>\n",
       "      <th>앨범</th>\n",
       "      <th>발매일</th>\n",
       "      <th>melon순위</th>\n",
       "      <th>melon변동폭</th>\n",
       "      <th>bugs순위</th>\n",
       "      <th>bugs등락</th>\n",
       "    </tr>\n",
       "  </thead>\n",
       "  <tbody>\n",
       "    <tr>\n",
       "      <th>0</th>\n",
       "      <td>1</td>\n",
       "      <td>0</td>\n",
       "      <td>꽃 길</td>\n",
       "      <td>BIGBANG</td>\n",
       "      <td>꽃 길</td>\n",
       "      <td>2018.03.13</td>\n",
       "      <td>1</td>\n",
       "      <td>0</td>\n",
       "      <td>1</td>\n",
       "      <td>0</td>\n",
       "    </tr>\n",
       "    <tr>\n",
       "      <th>1</th>\n",
       "      <td>2</td>\n",
       "      <td>0</td>\n",
       "      <td>별이 빛나는 밤</td>\n",
       "      <td>마마무(Mamamoo)</td>\n",
       "      <td>Yellow Flower</td>\n",
       "      <td>2018.03.07</td>\n",
       "      <td>2</td>\n",
       "      <td>0</td>\n",
       "      <td>3</td>\n",
       "      <td>0</td>\n",
       "    </tr>\n",
       "    <tr>\n",
       "      <th>2</th>\n",
       "      <td>3</td>\n",
       "      <td>1</td>\n",
       "      <td>Look</td>\n",
       "      <td>GOT7 (갓세븐)</td>\n",
       "      <td>Eyes On You</td>\n",
       "      <td>2018.03.12</td>\n",
       "      <td>46</td>\n",
       "      <td>2</td>\n",
       "      <td>61</td>\n",
       "      <td>8</td>\n",
       "    </tr>\n",
       "    <tr>\n",
       "      <th>3</th>\n",
       "      <td>4</td>\n",
       "      <td>1</td>\n",
       "      <td>Jenga (Feat. Gaeko)</td>\n",
       "      <td>헤이즈(Heize)</td>\n",
       "      <td>바람</td>\n",
       "      <td>2018.03.08</td>\n",
       "      <td>3</td>\n",
       "      <td>0</td>\n",
       "      <td>4</td>\n",
       "      <td>0</td>\n",
       "    </tr>\n",
       "    <tr>\n",
       "      <th>4</th>\n",
       "      <td>5</td>\n",
       "      <td>0</td>\n",
       "      <td>내가 더 나빠</td>\n",
       "      <td>헤이즈(Heize)</td>\n",
       "      <td>바람</td>\n",
       "      <td>2018.03.08</td>\n",
       "      <td>7</td>\n",
       "      <td>0</td>\n",
       "      <td>6</td>\n",
       "      <td>0</td>\n",
       "    </tr>\n",
       "  </tbody>\n",
       "</table>\n",
       "</div>"
      ],
      "text/plain": [
       "   mnet순위  mnet등락                    곡            가수             앨범  \\\n",
       "0       1       0                  꽃 길       BIGBANG            꽃 길   \n",
       "1       2       0             별이 빛나는 밤  마마무(Mamamoo)  Yellow Flower   \n",
       "2       3       1                 Look    GOT7 (갓세븐)    Eyes On You   \n",
       "3       4       1  Jenga (Feat. Gaeko)    헤이즈(Heize)             바람   \n",
       "4       5       0              내가 더 나빠    헤이즈(Heize)             바람   \n",
       "\n",
       "          발매일  melon순위  melon변동폭  bugs순위  bugs등락  \n",
       "0  2018.03.13        1         0       1       0  \n",
       "1  2018.03.07        2         0       3       0  \n",
       "2  2018.03.12       46         2      61       8  \n",
       "3  2018.03.08        3         0       4       0  \n",
       "4  2018.03.08        7         0       6       0  "
      ]
     },
     "execution_count": 27,
     "metadata": {},
     "output_type": "execute_result"
    }
   ],
   "source": [
    "result_df.head()"
   ]
  },
  {
   "cell_type": "code",
   "execution_count": 28,
   "metadata": {},
   "outputs": [
    {
     "data": {
      "text/html": [
       "<div>\n",
       "<style scoped>\n",
       "    .dataframe tbody tr th:only-of-type {\n",
       "        vertical-align: middle;\n",
       "    }\n",
       "\n",
       "    .dataframe tbody tr th {\n",
       "        vertical-align: top;\n",
       "    }\n",
       "\n",
       "    .dataframe thead th {\n",
       "        text-align: right;\n",
       "    }\n",
       "</style>\n",
       "<table border=\"1\" class=\"dataframe\">\n",
       "  <thead>\n",
       "    <tr style=\"text-align: right;\">\n",
       "      <th></th>\n",
       "      <th>mnet순위</th>\n",
       "      <th>mnet등락</th>\n",
       "      <th>곡</th>\n",
       "      <th>가수</th>\n",
       "      <th>앨범</th>\n",
       "      <th>발매일</th>\n",
       "      <th>melon순위</th>\n",
       "      <th>melon변동폭</th>\n",
       "      <th>bugs순위</th>\n",
       "      <th>bugs등락</th>\n",
       "      <th>순위_평균</th>\n",
       "      <th>등락_변동폭_평균</th>\n",
       "    </tr>\n",
       "  </thead>\n",
       "  <tbody>\n",
       "    <tr>\n",
       "      <th>0</th>\n",
       "      <td>1</td>\n",
       "      <td>0</td>\n",
       "      <td>꽃 길</td>\n",
       "      <td>BIGBANG</td>\n",
       "      <td>꽃 길</td>\n",
       "      <td>2018.03.13</td>\n",
       "      <td>1</td>\n",
       "      <td>0</td>\n",
       "      <td>1</td>\n",
       "      <td>0</td>\n",
       "      <td>1.000000</td>\n",
       "      <td>0.000000</td>\n",
       "    </tr>\n",
       "    <tr>\n",
       "      <th>1</th>\n",
       "      <td>2</td>\n",
       "      <td>0</td>\n",
       "      <td>별이 빛나는 밤</td>\n",
       "      <td>마마무(Mamamoo)</td>\n",
       "      <td>Yellow Flower</td>\n",
       "      <td>2018.03.07</td>\n",
       "      <td>2</td>\n",
       "      <td>0</td>\n",
       "      <td>3</td>\n",
       "      <td>0</td>\n",
       "      <td>2.333333</td>\n",
       "      <td>0.000000</td>\n",
       "    </tr>\n",
       "    <tr>\n",
       "      <th>2</th>\n",
       "      <td>3</td>\n",
       "      <td>1</td>\n",
       "      <td>Look</td>\n",
       "      <td>GOT7 (갓세븐)</td>\n",
       "      <td>Eyes On You</td>\n",
       "      <td>2018.03.12</td>\n",
       "      <td>46</td>\n",
       "      <td>2</td>\n",
       "      <td>61</td>\n",
       "      <td>8</td>\n",
       "      <td>36.666667</td>\n",
       "      <td>3.666667</td>\n",
       "    </tr>\n",
       "    <tr>\n",
       "      <th>3</th>\n",
       "      <td>4</td>\n",
       "      <td>1</td>\n",
       "      <td>Jenga (Feat. Gaeko)</td>\n",
       "      <td>헤이즈(Heize)</td>\n",
       "      <td>바람</td>\n",
       "      <td>2018.03.08</td>\n",
       "      <td>3</td>\n",
       "      <td>0</td>\n",
       "      <td>4</td>\n",
       "      <td>0</td>\n",
       "      <td>3.666667</td>\n",
       "      <td>0.333333</td>\n",
       "    </tr>\n",
       "    <tr>\n",
       "      <th>4</th>\n",
       "      <td>5</td>\n",
       "      <td>0</td>\n",
       "      <td>내가 더 나빠</td>\n",
       "      <td>헤이즈(Heize)</td>\n",
       "      <td>바람</td>\n",
       "      <td>2018.03.08</td>\n",
       "      <td>7</td>\n",
       "      <td>0</td>\n",
       "      <td>6</td>\n",
       "      <td>0</td>\n",
       "      <td>6.000000</td>\n",
       "      <td>0.000000</td>\n",
       "    </tr>\n",
       "  </tbody>\n",
       "</table>\n",
       "</div>"
      ],
      "text/plain": [
       "   mnet순위  mnet등락                    곡            가수             앨범  \\\n",
       "0       1       0                  꽃 길       BIGBANG            꽃 길   \n",
       "1       2       0             별이 빛나는 밤  마마무(Mamamoo)  Yellow Flower   \n",
       "2       3       1                 Look    GOT7 (갓세븐)    Eyes On You   \n",
       "3       4       1  Jenga (Feat. Gaeko)    헤이즈(Heize)             바람   \n",
       "4       5       0              내가 더 나빠    헤이즈(Heize)             바람   \n",
       "\n",
       "          발매일  melon순위  melon변동폭  bugs순위  bugs등락      순위_평균  등락_변동폭_평균  \n",
       "0  2018.03.13        1         0       1       0   1.000000   0.000000  \n",
       "1  2018.03.07        2         0       3       0   2.333333   0.000000  \n",
       "2  2018.03.12       46         2      61       8  36.666667   3.666667  \n",
       "3  2018.03.08        3         0       4       0   3.666667   0.333333  \n",
       "4  2018.03.08        7         0       6       0   6.000000   0.000000  "
      ]
     },
     "execution_count": 28,
     "metadata": {},
     "output_type": "execute_result"
    }
   ],
   "source": [
    "# 각 곡들의 순위 평균과 변동폭 평균을 구한다\n",
    "result_df['순위_평균'] = (result_df['mnet순위'] + result_df['melon순위'] + result_df['bugs순위']) / 3\n",
    "result_df['등락_변동폭_평균'] = (result_df['mnet등락'] + result_df['melon변동폭'] + result_df['bugs등락']) / 3\n",
    "\n",
    "result_df.head()"
   ]
  },
  {
   "cell_type": "code",
   "execution_count": 29,
   "metadata": {},
   "outputs": [],
   "source": [
    "del result_df['mnet순위'] # 필요없는 컬럼들 지우기\n",
    "del result_df['mnet등락']\n",
    "del result_df['melon순위']\n",
    "del result_df['melon변동폭']\n",
    "del result_df['bugs순위']\n",
    "del result_df['bugs등락']"
   ]
  },
  {
   "cell_type": "code",
   "execution_count": 30,
   "metadata": {},
   "outputs": [
    {
     "data": {
      "text/html": [
       "<div>\n",
       "<style scoped>\n",
       "    .dataframe tbody tr th:only-of-type {\n",
       "        vertical-align: middle;\n",
       "    }\n",
       "\n",
       "    .dataframe tbody tr th {\n",
       "        vertical-align: top;\n",
       "    }\n",
       "\n",
       "    .dataframe thead th {\n",
       "        text-align: right;\n",
       "    }\n",
       "</style>\n",
       "<table border=\"1\" class=\"dataframe\">\n",
       "  <thead>\n",
       "    <tr style=\"text-align: right;\">\n",
       "      <th></th>\n",
       "      <th>곡</th>\n",
       "      <th>가수</th>\n",
       "      <th>앨범</th>\n",
       "      <th>발매일</th>\n",
       "      <th>순위_평균</th>\n",
       "      <th>등락_변동폭_평균</th>\n",
       "    </tr>\n",
       "  </thead>\n",
       "  <tbody>\n",
       "    <tr>\n",
       "      <th>0</th>\n",
       "      <td>꽃 길</td>\n",
       "      <td>BIGBANG</td>\n",
       "      <td>꽃 길</td>\n",
       "      <td>2018.03.13</td>\n",
       "      <td>1.000000</td>\n",
       "      <td>0.000000</td>\n",
       "    </tr>\n",
       "    <tr>\n",
       "      <th>1</th>\n",
       "      <td>별이 빛나는 밤</td>\n",
       "      <td>마마무(Mamamoo)</td>\n",
       "      <td>Yellow Flower</td>\n",
       "      <td>2018.03.07</td>\n",
       "      <td>2.333333</td>\n",
       "      <td>0.000000</td>\n",
       "    </tr>\n",
       "    <tr>\n",
       "      <th>3</th>\n",
       "      <td>Jenga (Feat. Gaeko)</td>\n",
       "      <td>헤이즈(Heize)</td>\n",
       "      <td>바람</td>\n",
       "      <td>2018.03.08</td>\n",
       "      <td>3.666667</td>\n",
       "      <td>0.333333</td>\n",
       "    </tr>\n",
       "    <tr>\n",
       "      <th>5</th>\n",
       "      <td>사랑을 했다 (LOVE SCENARIO)</td>\n",
       "      <td>iKON</td>\n",
       "      <td>Return</td>\n",
       "      <td>2018.01.25</td>\n",
       "      <td>5.666667</td>\n",
       "      <td>2.000000</td>\n",
       "    </tr>\n",
       "    <tr>\n",
       "      <th>4</th>\n",
       "      <td>내가 더 나빠</td>\n",
       "      <td>헤이즈(Heize)</td>\n",
       "      <td>바람</td>\n",
       "      <td>2018.03.08</td>\n",
       "      <td>6.000000</td>\n",
       "      <td>0.000000</td>\n",
       "    </tr>\n",
       "    <tr>\n",
       "      <th>9</th>\n",
       "      <td>뿜뿜</td>\n",
       "      <td>모모랜드(MOMOLAND)</td>\n",
       "      <td>GREAT!</td>\n",
       "      <td>2018.01.03</td>\n",
       "      <td>8.666667</td>\n",
       "      <td>0.333333</td>\n",
       "    </tr>\n",
       "    <tr>\n",
       "      <th>6</th>\n",
       "      <td>나타나줘 (Feat. 박재범)</td>\n",
       "      <td>로꼬</td>\n",
       "      <td>나타나줘</td>\n",
       "      <td>2018.03.14</td>\n",
       "      <td>9.000000</td>\n",
       "      <td>1.000000</td>\n",
       "    </tr>\n",
       "    <tr>\n",
       "      <th>13</th>\n",
       "      <td>그때 헤어지면 돼</td>\n",
       "      <td>로이킴</td>\n",
       "      <td>그때 헤어지면 돼</td>\n",
       "      <td>2018.02.12</td>\n",
       "      <td>11.000000</td>\n",
       "      <td>0.000000</td>\n",
       "    </tr>\n",
       "    <tr>\n",
       "      <th>7</th>\n",
       "      <td>You</td>\n",
       "      <td>멜로망스(Melomance)</td>\n",
       "      <td>투유 프로젝트 - 슈가맨2 Part 2</td>\n",
       "      <td>2018.01.22</td>\n",
       "      <td>13.666667</td>\n",
       "      <td>1.333333</td>\n",
       "    </tr>\n",
       "    <tr>\n",
       "      <th>14</th>\n",
       "      <td>Roller Coaster</td>\n",
       "      <td>청하</td>\n",
       "      <td>Offset</td>\n",
       "      <td>2018.01.17</td>\n",
       "      <td>14.666667</td>\n",
       "      <td>3.333333</td>\n",
       "    </tr>\n",
       "    <tr>\n",
       "      <th>16</th>\n",
       "      <td>Bad Boy</td>\n",
       "      <td>Red Velvet (레드벨벳)</td>\n",
       "      <td>The Perfect Red Velvet - The 2nd Album Repackage</td>\n",
       "      <td>2018.01.29</td>\n",
       "      <td>15.000000</td>\n",
       "      <td>10.666667</td>\n",
       "    </tr>\n",
       "    <tr>\n",
       "      <th>10</th>\n",
       "      <td>약속해요 (I.P.U.)</td>\n",
       "      <td>Wanna One(워너원)</td>\n",
       "      <td>약속해요 (I.P.U.) - Special Theme Track</td>\n",
       "      <td>2018.03.05</td>\n",
       "      <td>16.000000</td>\n",
       "      <td>1.000000</td>\n",
       "    </tr>\n",
       "    <tr>\n",
       "      <th>12</th>\n",
       "      <td>My Way</td>\n",
       "      <td>이수(엠씨더맥스)</td>\n",
       "      <td>돈꽃 OST Part 1</td>\n",
       "      <td>2017.11.11</td>\n",
       "      <td>16.666667</td>\n",
       "      <td>4.000000</td>\n",
       "    </tr>\n",
       "    <tr>\n",
       "      <th>17</th>\n",
       "      <td>선물</td>\n",
       "      <td>멜로망스(Melomance)</td>\n",
       "      <td>Moonlight</td>\n",
       "      <td>2017.07.10</td>\n",
       "      <td>19.000000</td>\n",
       "      <td>9.333333</td>\n",
       "    </tr>\n",
       "    <tr>\n",
       "      <th>20</th>\n",
       "      <td>눈사람</td>\n",
       "      <td>정승환</td>\n",
       "      <td>그리고 봄</td>\n",
       "      <td>2018.02.19</td>\n",
       "      <td>20.333333</td>\n",
       "      <td>9.333333</td>\n",
       "    </tr>\n",
       "    <tr>\n",
       "      <th>18</th>\n",
       "      <td>instagram</td>\n",
       "      <td>DEAN</td>\n",
       "      <td>instagram</td>\n",
       "      <td>2017.12.26</td>\n",
       "      <td>21.666667</td>\n",
       "      <td>1.666667</td>\n",
       "    </tr>\n",
       "    <tr>\n",
       "      <th>36</th>\n",
       "      <td>그날처럼</td>\n",
       "      <td>장덕철</td>\n",
       "      <td>그날처럼</td>\n",
       "      <td>2017.11.28</td>\n",
       "      <td>24.000000</td>\n",
       "      <td>33.333333</td>\n",
       "    </tr>\n",
       "    <tr>\n",
       "      <th>15</th>\n",
       "      <td>밤이 되니까</td>\n",
       "      <td>펀치(Punch)</td>\n",
       "      <td>밤이 되니까</td>\n",
       "      <td>2017.09.29</td>\n",
       "      <td>26.666667</td>\n",
       "      <td>14.666667</td>\n",
       "    </tr>\n",
       "    <tr>\n",
       "      <th>22</th>\n",
       "      <td>비행운</td>\n",
       "      <td>문문(MoonMoon)</td>\n",
       "      <td>LIFE IS BEAUTY FULL</td>\n",
       "      <td>2016.11.10</td>\n",
       "      <td>27.666667</td>\n",
       "      <td>2.666667</td>\n",
       "    </tr>\n",
       "    <tr>\n",
       "      <th>29</th>\n",
       "      <td>이 별</td>\n",
       "      <td>길구봉구</td>\n",
       "      <td>Star</td>\n",
       "      <td>2017.09.18</td>\n",
       "      <td>31.666667</td>\n",
       "      <td>35.000000</td>\n",
       "    </tr>\n",
       "    <tr>\n",
       "      <th>26</th>\n",
       "      <td>#첫사랑</td>\n",
       "      <td>볼빨간사춘기</td>\n",
       "      <td>#첫사랑</td>\n",
       "      <td>2018.01.10</td>\n",
       "      <td>31.666667</td>\n",
       "      <td>1.000000</td>\n",
       "    </tr>\n",
       "    <tr>\n",
       "      <th>28</th>\n",
       "      <td>비도 오고 그래서 (Feat. 신용재)</td>\n",
       "      <td>헤이즈(Heize)</td>\n",
       "      <td>/// (너 먹구름 비)</td>\n",
       "      <td>2017.06.26</td>\n",
       "      <td>33.333333</td>\n",
       "      <td>34.000000</td>\n",
       "    </tr>\n",
       "    <tr>\n",
       "      <th>24</th>\n",
       "      <td>all of my life</td>\n",
       "      <td>박원</td>\n",
       "      <td>0M</td>\n",
       "      <td>2017.07.27</td>\n",
       "      <td>33.666667</td>\n",
       "      <td>11.333333</td>\n",
       "    </tr>\n",
       "    <tr>\n",
       "      <th>8</th>\n",
       "      <td>My Blossom</td>\n",
       "      <td>소유(SOYOU)</td>\n",
       "      <td>My Blossom</td>\n",
       "      <td>2018.03.12</td>\n",
       "      <td>34.333333</td>\n",
       "      <td>1.666667</td>\n",
       "    </tr>\n",
       "    <tr>\n",
       "      <th>30</th>\n",
       "      <td>주인공</td>\n",
       "      <td>선미</td>\n",
       "      <td>주인공</td>\n",
       "      <td>2018.01.18</td>\n",
       "      <td>35.333333</td>\n",
       "      <td>11.000000</td>\n",
       "    </tr>\n",
       "    <tr>\n",
       "      <th>2</th>\n",
       "      <td>Look</td>\n",
       "      <td>GOT7 (갓세븐)</td>\n",
       "      <td>Eyes On You</td>\n",
       "      <td>2018.03.12</td>\n",
       "      <td>36.666667</td>\n",
       "      <td>3.666667</td>\n",
       "    </tr>\n",
       "    <tr>\n",
       "      <th>27</th>\n",
       "      <td>별 바람 꽃 태양</td>\n",
       "      <td>마마무(Mamamoo)</td>\n",
       "      <td>Yellow Flower</td>\n",
       "      <td>2018.03.07</td>\n",
       "      <td>37.000000</td>\n",
       "      <td>4.666667</td>\n",
       "    </tr>\n",
       "    <tr>\n",
       "      <th>32</th>\n",
       "      <td>가을 안부</td>\n",
       "      <td>먼데이키즈(Monday Kiz)</td>\n",
       "      <td>가을 안부</td>\n",
       "      <td>2017.10.14</td>\n",
       "      <td>37.333333</td>\n",
       "      <td>3.000000</td>\n",
       "    </tr>\n",
       "    <tr>\n",
       "      <th>33</th>\n",
       "      <td>눈 떠보니 이별이더라</td>\n",
       "      <td>포맨</td>\n",
       "      <td>REMEMBER ME</td>\n",
       "      <td>2017.10.24</td>\n",
       "      <td>38.000000</td>\n",
       "      <td>6.666667</td>\n",
       "    </tr>\n",
       "    <tr>\n",
       "      <th>21</th>\n",
       "      <td>너 없는 시간들</td>\n",
       "      <td>다비치</td>\n",
       "      <td>&amp;10</td>\n",
       "      <td>2018.01.25</td>\n",
       "      <td>41.333333</td>\n",
       "      <td>3.666667</td>\n",
       "    </tr>\n",
       "    <tr>\n",
       "      <th>19</th>\n",
       "      <td>MIANHAE</td>\n",
       "      <td>헤이즈(Heize)</td>\n",
       "      <td>바람</td>\n",
       "      <td>2018.03.08</td>\n",
       "      <td>42.333333</td>\n",
       "      <td>4.666667</td>\n",
       "    </tr>\n",
       "    <tr>\n",
       "      <th>31</th>\n",
       "      <td>BOSS</td>\n",
       "      <td>NCT U</td>\n",
       "      <td>NCT 2018 EMPATHY</td>\n",
       "      <td>2018.03.14</td>\n",
       "      <td>43.333333</td>\n",
       "      <td>7.333333</td>\n",
       "    </tr>\n",
       "    <tr>\n",
       "      <th>11</th>\n",
       "      <td>애쓰지 마요</td>\n",
       "      <td>박보람</td>\n",
       "      <td>애쓰지 마요</td>\n",
       "      <td>2018.02.13</td>\n",
       "      <td>44.000000</td>\n",
       "      <td>2.000000</td>\n",
       "    </tr>\n",
       "    <tr>\n",
       "      <th>34</th>\n",
       "      <td>봄날</td>\n",
       "      <td>방탄소년단</td>\n",
       "      <td>YOU NEVER WALK ALONE</td>\n",
       "      <td>2017.02.13</td>\n",
       "      <td>47.000000</td>\n",
       "      <td>3.333333</td>\n",
       "    </tr>\n",
       "    <tr>\n",
       "      <th>25</th>\n",
       "      <td>Thunder</td>\n",
       "      <td>Imagine Dragons</td>\n",
       "      <td>Evolve</td>\n",
       "      <td>2018.02.22</td>\n",
       "      <td>49.000000</td>\n",
       "      <td>9.000000</td>\n",
       "    </tr>\n",
       "    <tr>\n",
       "      <th>39</th>\n",
       "      <td>Heart Shaker</td>\n",
       "      <td>TWICE(트와이스)</td>\n",
       "      <td>Merry &amp; Happy</td>\n",
       "      <td>2017.12.11</td>\n",
       "      <td>49.333333</td>\n",
       "      <td>10.000000</td>\n",
       "    </tr>\n",
       "    <tr>\n",
       "      <th>35</th>\n",
       "      <td>LIKEY</td>\n",
       "      <td>TWICE(트와이스)</td>\n",
       "      <td>twicetagram</td>\n",
       "      <td>2017.10.30</td>\n",
       "      <td>51.000000</td>\n",
       "      <td>10.333333</td>\n",
       "    </tr>\n",
       "    <tr>\n",
       "      <th>23</th>\n",
       "      <td>오늘밤도</td>\n",
       "      <td>펀치(Punch)</td>\n",
       "      <td>오늘밤도</td>\n",
       "      <td>2018.02.06</td>\n",
       "      <td>55.000000</td>\n",
       "      <td>5.000000</td>\n",
       "    </tr>\n",
       "    <tr>\n",
       "      <th>38</th>\n",
       "      <td>다른사람을 사랑하고 있어</td>\n",
       "      <td>수지(SUZY)</td>\n",
       "      <td>Faces of Love</td>\n",
       "      <td>2018.01.29</td>\n",
       "      <td>55.333333</td>\n",
       "      <td>14.333333</td>\n",
       "    </tr>\n",
       "    <tr>\n",
       "      <th>41</th>\n",
       "      <td>기억의 빈자리</td>\n",
       "      <td>나얼</td>\n",
       "      <td>기억의 빈자리</td>\n",
       "      <td>2017.11.29</td>\n",
       "      <td>58.666667</td>\n",
       "      <td>5.000000</td>\n",
       "    </tr>\n",
       "    <tr>\n",
       "      <th>40</th>\n",
       "      <td>답장</td>\n",
       "      <td>김동률</td>\n",
       "      <td>답장</td>\n",
       "      <td>2018.01.11</td>\n",
       "      <td>59.000000</td>\n",
       "      <td>11.666667</td>\n",
       "    </tr>\n",
       "    <tr>\n",
       "      <th>44</th>\n",
       "      <td>노력</td>\n",
       "      <td>박원</td>\n",
       "      <td>1/24</td>\n",
       "      <td>2016.11.17</td>\n",
       "      <td>62.666667</td>\n",
       "      <td>37.000000</td>\n",
       "    </tr>\n",
       "    <tr>\n",
       "      <th>45</th>\n",
       "      <td>미안해</td>\n",
       "      <td>양다일</td>\n",
       "      <td>inside</td>\n",
       "      <td>2017.12.29</td>\n",
       "      <td>63.333333</td>\n",
       "      <td>3.333333</td>\n",
       "    </tr>\n",
       "    <tr>\n",
       "      <th>37</th>\n",
       "      <td>비밀정원</td>\n",
       "      <td>오마이걸(OH MY GIRL)</td>\n",
       "      <td>비밀정원</td>\n",
       "      <td>2018.01.09</td>\n",
       "      <td>63.333333</td>\n",
       "      <td>2.000000</td>\n",
       "    </tr>\n",
       "    <tr>\n",
       "      <th>42</th>\n",
       "      <td>그때의 나, 그때의 우리</td>\n",
       "      <td>어반 자카파(Urban Zakapa)</td>\n",
       "      <td>그때의 나, 그때의 우리</td>\n",
       "      <td>2017.11.08</td>\n",
       "      <td>76.666667</td>\n",
       "      <td>41.666667</td>\n",
       "    </tr>\n",
       "    <tr>\n",
       "      <th>43</th>\n",
       "      <td>REALLY REALLY</td>\n",
       "      <td>WINNER</td>\n",
       "      <td>FATE NUMBER FOR</td>\n",
       "      <td>2017.04.04</td>\n",
       "      <td>79.333333</td>\n",
       "      <td>46.000000</td>\n",
       "    </tr>\n",
       "    <tr>\n",
       "      <th>46</th>\n",
       "      <td>나의 사춘기에게</td>\n",
       "      <td>볼빨간사춘기</td>\n",
       "      <td>Red Diary Page.1</td>\n",
       "      <td>2017.09.28</td>\n",
       "      <td>82.000000</td>\n",
       "      <td>34.333333</td>\n",
       "    </tr>\n",
       "    <tr>\n",
       "      <th>47</th>\n",
       "      <td>팔레트 (Feat. G-DRAGON)</td>\n",
       "      <td>아이유(IU)</td>\n",
       "      <td>Palette</td>\n",
       "      <td>2017.04.21</td>\n",
       "      <td>91.666667</td>\n",
       "      <td>35.333333</td>\n",
       "    </tr>\n",
       "  </tbody>\n",
       "</table>\n",
       "</div>"
      ],
      "text/plain": [
       "                         곡                    가수  \\\n",
       "0                      꽃 길               BIGBANG   \n",
       "1                 별이 빛나는 밤          마마무(Mamamoo)   \n",
       "3      Jenga (Feat. Gaeko)            헤이즈(Heize)   \n",
       "5   사랑을 했다 (LOVE SCENARIO)                  iKON   \n",
       "4                  내가 더 나빠            헤이즈(Heize)   \n",
       "9                       뿜뿜        모모랜드(MOMOLAND)   \n",
       "6         나타나줘 (Feat. 박재범)                    로꼬   \n",
       "13               그때 헤어지면 돼                   로이킴   \n",
       "7                      You       멜로망스(Melomance)   \n",
       "14          Roller Coaster                    청하   \n",
       "16                 Bad Boy     Red Velvet (레드벨벳)   \n",
       "10           약속해요 (I.P.U.)        Wanna One(워너원)   \n",
       "12                  My Way            이수(엠씨더맥스)    \n",
       "17                      선물       멜로망스(Melomance)   \n",
       "20                     눈사람                   정승환   \n",
       "18               instagram                  DEAN   \n",
       "36                    그날처럼                   장덕철   \n",
       "15                  밤이 되니까             펀치(Punch)   \n",
       "22                     비행운          문문(MoonMoon)   \n",
       "29                     이 별                  길구봉구   \n",
       "26                    #첫사랑                볼빨간사춘기   \n",
       "28   비도 오고 그래서 (Feat. 신용재)            헤이즈(Heize)   \n",
       "24          all of my life                    박원   \n",
       "8               My Blossom             소유(SOYOU)   \n",
       "30                     주인공                    선미   \n",
       "2                     Look            GOT7 (갓세븐)   \n",
       "27               별 바람 꽃 태양          마마무(Mamamoo)   \n",
       "32                   가을 안부     먼데이키즈(Monday Kiz)   \n",
       "33             눈 떠보니 이별이더라                    포맨   \n",
       "21                너 없는 시간들                   다비치   \n",
       "19                 MIANHAE            헤이즈(Heize)   \n",
       "31                    BOSS                 NCT U   \n",
       "11                  애쓰지 마요                   박보람   \n",
       "34                      봄날                 방탄소년단   \n",
       "25                 Thunder       Imagine Dragons   \n",
       "39            Heart Shaker           TWICE(트와이스)   \n",
       "35                   LIKEY           TWICE(트와이스)   \n",
       "23                    오늘밤도             펀치(Punch)   \n",
       "38           다른사람을 사랑하고 있어              수지(SUZY)   \n",
       "41                 기억의 빈자리                    나얼   \n",
       "40                      답장                   김동률   \n",
       "44                      노력                    박원   \n",
       "45                     미안해                   양다일   \n",
       "37                    비밀정원      오마이걸(OH MY GIRL)   \n",
       "42           그때의 나, 그때의 우리  어반 자카파(Urban Zakapa)   \n",
       "43           REALLY REALLY                WINNER   \n",
       "46                나의 사춘기에게                볼빨간사춘기   \n",
       "47    팔레트 (Feat. G-DRAGON)               아이유(IU)   \n",
       "\n",
       "                                                  앨범         발매일      순위_평균  \\\n",
       "0                                                꽃 길  2018.03.13   1.000000   \n",
       "1                                      Yellow Flower  2018.03.07   2.333333   \n",
       "3                                                 바람  2018.03.08   3.666667   \n",
       "5                                             Return  2018.01.25   5.666667   \n",
       "4                                                 바람  2018.03.08   6.000000   \n",
       "9                                             GREAT!  2018.01.03   8.666667   \n",
       "6                                               나타나줘  2018.03.14   9.000000   \n",
       "13                                         그때 헤어지면 돼  2018.02.12  11.000000   \n",
       "7                              투유 프로젝트 - 슈가맨2 Part 2  2018.01.22  13.666667   \n",
       "14                                            Offset  2018.01.17  14.666667   \n",
       "16  The Perfect Red Velvet - The 2nd Album Repackage  2018.01.29  15.000000   \n",
       "10               약속해요 (I.P.U.) - Special Theme Track  2018.03.05  16.000000   \n",
       "12                                     돈꽃 OST Part 1  2017.11.11  16.666667   \n",
       "17                                         Moonlight  2017.07.10  19.000000   \n",
       "20                                             그리고 봄  2018.02.19  20.333333   \n",
       "18                                         instagram  2017.12.26  21.666667   \n",
       "36                                              그날처럼  2017.11.28  24.000000   \n",
       "15                                            밤이 되니까  2017.09.29  26.666667   \n",
       "22                               LIFE IS BEAUTY FULL  2016.11.10  27.666667   \n",
       "29                                              Star  2017.09.18  31.666667   \n",
       "26                                              #첫사랑  2018.01.10  31.666667   \n",
       "28                                     /// (너 먹구름 비)  2017.06.26  33.333333   \n",
       "24                                                0M  2017.07.27  33.666667   \n",
       "8                                         My Blossom  2018.03.12  34.333333   \n",
       "30                                               주인공  2018.01.18  35.333333   \n",
       "2                                        Eyes On You  2018.03.12  36.666667   \n",
       "27                                     Yellow Flower  2018.03.07  37.000000   \n",
       "32                                             가을 안부  2017.10.14  37.333333   \n",
       "33                                       REMEMBER ME  2017.10.24  38.000000   \n",
       "21                                           &10      2018.01.25  41.333333   \n",
       "19                                                바람  2018.03.08  42.333333   \n",
       "31                                  NCT 2018 EMPATHY  2018.03.14  43.333333   \n",
       "11                                            애쓰지 마요  2018.02.13  44.000000   \n",
       "34                              YOU NEVER WALK ALONE  2017.02.13  47.000000   \n",
       "25                                            Evolve  2018.02.22  49.000000   \n",
       "39                                     Merry & Happy  2017.12.11  49.333333   \n",
       "35                                       twicetagram  2017.10.30  51.000000   \n",
       "23                                              오늘밤도  2018.02.06  55.000000   \n",
       "38                                     Faces of Love  2018.01.29  55.333333   \n",
       "41                                           기억의 빈자리  2017.11.29  58.666667   \n",
       "40                                                답장  2018.01.11  59.000000   \n",
       "44                                              1/24  2016.11.17  62.666667   \n",
       "45                                            inside  2017.12.29  63.333333   \n",
       "37                                              비밀정원  2018.01.09  63.333333   \n",
       "42                                     그때의 나, 그때의 우리  2017.11.08  76.666667   \n",
       "43                                   FATE NUMBER FOR  2017.04.04  79.333333   \n",
       "46                                  Red Diary Page.1  2017.09.28  82.000000   \n",
       "47                                           Palette  2017.04.21  91.666667   \n",
       "\n",
       "    등락_변동폭_평균  \n",
       "0    0.000000  \n",
       "1    0.000000  \n",
       "3    0.333333  \n",
       "5    2.000000  \n",
       "4    0.000000  \n",
       "9    0.333333  \n",
       "6    1.000000  \n",
       "13   0.000000  \n",
       "7    1.333333  \n",
       "14   3.333333  \n",
       "16  10.666667  \n",
       "10   1.000000  \n",
       "12   4.000000  \n",
       "17   9.333333  \n",
       "20   9.333333  \n",
       "18   1.666667  \n",
       "36  33.333333  \n",
       "15  14.666667  \n",
       "22   2.666667  \n",
       "29  35.000000  \n",
       "26   1.000000  \n",
       "28  34.000000  \n",
       "24  11.333333  \n",
       "8    1.666667  \n",
       "30  11.000000  \n",
       "2    3.666667  \n",
       "27   4.666667  \n",
       "32   3.000000  \n",
       "33   6.666667  \n",
       "21   3.666667  \n",
       "19   4.666667  \n",
       "31   7.333333  \n",
       "11   2.000000  \n",
       "34   3.333333  \n",
       "25   9.000000  \n",
       "39  10.000000  \n",
       "35  10.333333  \n",
       "23   5.000000  \n",
       "38  14.333333  \n",
       "41   5.000000  \n",
       "40  11.666667  \n",
       "44  37.000000  \n",
       "45   3.333333  \n",
       "37   2.000000  \n",
       "42  41.666667  \n",
       "43  46.000000  \n",
       "46  34.333333  \n",
       "47  35.333333  "
      ]
     },
     "execution_count": 30,
     "metadata": {},
     "output_type": "execute_result"
    }
   ],
   "source": [
    "result_df.sort_values('순위_평균')"
   ]
  },
  {
   "cell_type": "code",
   "execution_count": 31,
   "metadata": {},
   "outputs": [
    {
     "data": {
      "text/plain": [
       "array([[1.        , 0.58537927],\n",
       "       [0.58537927, 1.        ]])"
      ]
     },
     "execution_count": 31,
     "metadata": {},
     "output_type": "execute_result"
    }
   ],
   "source": [
    "np.corrcoef(result_df['순위_평균'], result_df['등락_변동폭_평균'])\n",
    "# 각 곡의 3사 순위 평균과 등락폭 평균은 관계가 있다."
   ]
  },
  {
   "cell_type": "code",
   "execution_count": 32,
   "metadata": {},
   "outputs": [
    {
     "data": {
      "image/png": "[encoded data removed]",
      "text/plain": [
       "<matplotlib.figure.Figure at 0x17975ee17b8>"
      ]
     },
     "metadata": {},
     "output_type": "display_data"
    }
   ],
   "source": [
    "fp1 = np.polyfit(result_df['순위_평균'], result_df['등락_변동폭_평균'], 1)\n",
    "\n",
    "f1 = np.poly1d(fp1) # y축 데이터 만들기(CCTV 개수 표현을 위한 데이터 축)\n",
    "fx = np.linspace(0,100,100) # x축 데이터 만들기 (인구수 표현을 위한 데이터 축)\n",
    "\n",
    "plt.figure(figsize=(10,10))\n",
    "plt.scatter(result_df['순위_평균'], result_df['등락_변동폭_평균'], c=result_df['순위_평균'], s=50)\n",
    "plt.plot(fx, f1(fx), ls='dashed', lw=3, color='g') # 기준 직선 그려주기\n",
    "\n",
    "plt.xlabel('순위_평균')\n",
    "plt.ylabel('등락_변동폭_평균')\n",
    "\n",
    "plt.colorbar()\n",
    "plt.grid()\n",
    "plt.show()"
   ]
  },
  {
   "cell_type": "code",
   "execution_count": 33,
   "metadata": {},
   "outputs": [],
   "source": [
    "# pivot_table을 위해 모든 데이터 프레임들이 같은 컬럼의 이름을 가지도록 설정한다.\n",
    "\n",
    "mnet_df=pd.DataFrame(mnet, columns=['순위','등락','곡','가수','앨범','발매일'])\n",
    "melon_df = pd.DataFrame(melon, columns=['순위','등락','곡','가수','앨범','발매일'])\n",
    "bugs_df = pd.DataFrame(bugs, columns=['순위','등락','곡','가수','앨범','발매일'])"
   ]
  },
  {
   "cell_type": "code",
   "execution_count": 34,
   "metadata": {},
   "outputs": [
    {
     "data": {
      "text/html": [
       "<div>\n",
       "<style scoped>\n",
       "    .dataframe tbody tr th:only-of-type {\n",
       "        vertical-align: middle;\n",
       "    }\n",
       "\n",
       "    .dataframe tbody tr th {\n",
       "        vertical-align: top;\n",
       "    }\n",
       "\n",
       "    .dataframe thead th {\n",
       "        text-align: right;\n",
       "    }\n",
       "</style>\n",
       "<table border=\"1\" class=\"dataframe\">\n",
       "  <thead>\n",
       "    <tr style=\"text-align: right;\">\n",
       "      <th></th>\n",
       "      <th>순위</th>\n",
       "      <th>등락</th>\n",
       "      <th>곡</th>\n",
       "      <th>가수</th>\n",
       "      <th>앨범</th>\n",
       "      <th>발매일</th>\n",
       "    </tr>\n",
       "  </thead>\n",
       "  <tbody>\n",
       "    <tr>\n",
       "      <th>0</th>\n",
       "      <td>1</td>\n",
       "      <td>0</td>\n",
       "      <td>꽃 길</td>\n",
       "      <td>BIGBANG</td>\n",
       "      <td>꽃 길</td>\n",
       "      <td>2018.03.13</td>\n",
       "    </tr>\n",
       "    <tr>\n",
       "      <th>1</th>\n",
       "      <td>2</td>\n",
       "      <td>0</td>\n",
       "      <td>별이 빛나는 밤</td>\n",
       "      <td>마마무(Mamamoo)</td>\n",
       "      <td>Yellow Flower</td>\n",
       "      <td>2018.03.07</td>\n",
       "    </tr>\n",
       "    <tr>\n",
       "      <th>2</th>\n",
       "      <td>3</td>\n",
       "      <td>1</td>\n",
       "      <td>Look</td>\n",
       "      <td>GOT7 (갓세븐)</td>\n",
       "      <td>Eyes On You</td>\n",
       "      <td>2018.03.12</td>\n",
       "    </tr>\n",
       "    <tr>\n",
       "      <th>3</th>\n",
       "      <td>4</td>\n",
       "      <td>1</td>\n",
       "      <td>Jenga (Feat. Gaeko)</td>\n",
       "      <td>헤이즈(Heize)</td>\n",
       "      <td>바람</td>\n",
       "      <td>2018.03.08</td>\n",
       "    </tr>\n",
       "    <tr>\n",
       "      <th>4</th>\n",
       "      <td>5</td>\n",
       "      <td>0</td>\n",
       "      <td>내가 더 나빠</td>\n",
       "      <td>헤이즈(Heize)</td>\n",
       "      <td>바람</td>\n",
       "      <td>2018.03.08</td>\n",
       "    </tr>\n",
       "  </tbody>\n",
       "</table>\n",
       "</div>"
      ],
      "text/plain": [
       "   순위  등락                    곡            가수             앨범         발매일\n",
       "0   1   0                  꽃 길       BIGBANG            꽃 길  2018.03.13\n",
       "1   2   0             별이 빛나는 밤  마마무(Mamamoo)  Yellow Flower  2018.03.07\n",
       "2   3   1                 Look    GOT7 (갓세븐)    Eyes On You  2018.03.12\n",
       "3   4   1  Jenga (Feat. Gaeko)    헤이즈(Heize)             바람  2018.03.08\n",
       "4   5   0              내가 더 나빠    헤이즈(Heize)             바람  2018.03.08"
      ]
     },
     "execution_count": 34,
     "metadata": {},
     "output_type": "execute_result"
    }
   ],
   "source": [
    "result_df = pd.concat([mnet_df, melon_df, bugs_df], ignore_index=True)\n",
    "# 각 음악 사이트들의 데이터 프레임들을 세로로 붙인다.\n",
    "result_df.head()"
   ]
  },
  {
   "cell_type": "code",
   "execution_count": 35,
   "metadata": {},
   "outputs": [],
   "source": [
    "#순위와 등락폭의 평균을 pivot_table을 이용하여 구한다\n",
    "pivot_result_df = pd.pivot_table(result_df, index=[\"곡\"], values=[\"순위\", \"등락\"], aggfunc=[np.mean])"
   ]
  },
  {
   "cell_type": "code",
   "execution_count": 36,
   "metadata": {},
   "outputs": [
    {
     "data": {
      "text/html": [
       "<div>\n",
       "<style scoped>\n",
       "    .dataframe tbody tr th:only-of-type {\n",
       "        vertical-align: middle;\n",
       "    }\n",
       "\n",
       "    .dataframe tbody tr th {\n",
       "        vertical-align: top;\n",
       "    }\n",
       "\n",
       "    .dataframe thead tr th {\n",
       "        text-align: left;\n",
       "    }\n",
       "\n",
       "    .dataframe thead tr:last-of-type th {\n",
       "        text-align: right;\n",
       "    }\n",
       "</style>\n",
       "<table border=\"1\" class=\"dataframe\">\n",
       "  <thead>\n",
       "    <tr>\n",
       "      <th></th>\n",
       "      <th colspan=\"2\" halign=\"left\">mean</th>\n",
       "    </tr>\n",
       "    <tr>\n",
       "      <th></th>\n",
       "      <th>등락</th>\n",
       "      <th>순위</th>\n",
       "    </tr>\n",
       "    <tr>\n",
       "      <th>곡</th>\n",
       "      <th></th>\n",
       "      <th></th>\n",
       "    </tr>\n",
       "  </thead>\n",
       "  <tbody>\n",
       "    <tr>\n",
       "      <th>#첫사랑</th>\n",
       "      <td>1.0</td>\n",
       "      <td>31.666667</td>\n",
       "    </tr>\n",
       "    <tr>\n",
       "      <th>Action! (Feat. GRAY)</th>\n",
       "      <td>6.0</td>\n",
       "      <td>57.500000</td>\n",
       "    </tr>\n",
       "    <tr>\n",
       "      <th>Action! (feat. GRAY)</th>\n",
       "      <td>3.0</td>\n",
       "      <td>52.000000</td>\n",
       "    </tr>\n",
       "    <tr>\n",
       "      <th>All Falls Down (Feat. Noah Cyrus, Digit ..</th>\n",
       "      <td>11.0</td>\n",
       "      <td>39.000000</td>\n",
       "    </tr>\n",
       "    <tr>\n",
       "      <th>All The Stars (영화 '블랙 팬서' OST)</th>\n",
       "      <td>3.0</td>\n",
       "      <td>59.000000</td>\n",
       "    </tr>\n",
       "  </tbody>\n",
       "</table>\n",
       "</div>"
      ],
      "text/plain": [
       "                                            mean           \n",
       "                                              등락         순위\n",
       "곡                                                          \n",
       "#첫사랑                                         1.0  31.666667\n",
       "Action! (Feat. GRAY)                         6.0  57.500000\n",
       "Action! (feat. GRAY)                         3.0  52.000000\n",
       "All Falls Down (Feat. Noah Cyrus, Digit ..  11.0  39.000000\n",
       "All The Stars (영화 '블랙 팬서' OST)               3.0  59.000000"
      ]
     },
     "execution_count": 36,
     "metadata": {},
     "output_type": "execute_result"
    }
   ],
   "source": [
    "pivot_result_df.head()"
   ]
  },
  {
   "cell_type": "code",
   "execution_count": 37,
   "metadata": {},
   "outputs": [],
   "source": [
    "pivot_result_df.columns = pivot_result_df.columns.droplevel()\n",
    "#컬럼 위쪽에 붙은 mean 제거"
   ]
  },
  {
   "cell_type": "code",
   "execution_count": 38,
   "metadata": {},
   "outputs": [
    {
     "data": {
      "text/html": [
       "<div>\n",
       "<style scoped>\n",
       "    .dataframe tbody tr th:only-of-type {\n",
       "        vertical-align: middle;\n",
       "    }\n",
       "\n",
       "    .dataframe tbody tr th {\n",
       "        vertical-align: top;\n",
       "    }\n",
       "\n",
       "    .dataframe thead th {\n",
       "        text-align: right;\n",
       "    }\n",
       "</style>\n",
       "<table border=\"1\" class=\"dataframe\">\n",
       "  <thead>\n",
       "    <tr style=\"text-align: right;\">\n",
       "      <th></th>\n",
       "      <th>등락</th>\n",
       "      <th>순위</th>\n",
       "    </tr>\n",
       "    <tr>\n",
       "      <th>곡</th>\n",
       "      <th></th>\n",
       "      <th></th>\n",
       "    </tr>\n",
       "  </thead>\n",
       "  <tbody>\n",
       "    <tr>\n",
       "      <th>#첫사랑</th>\n",
       "      <td>1.0</td>\n",
       "      <td>31.666667</td>\n",
       "    </tr>\n",
       "    <tr>\n",
       "      <th>Action! (Feat. GRAY)</th>\n",
       "      <td>6.0</td>\n",
       "      <td>57.500000</td>\n",
       "    </tr>\n",
       "    <tr>\n",
       "      <th>Action! (feat. GRAY)</th>\n",
       "      <td>3.0</td>\n",
       "      <td>52.000000</td>\n",
       "    </tr>\n",
       "    <tr>\n",
       "      <th>All Falls Down (Feat. Noah Cyrus, Digit ..</th>\n",
       "      <td>11.0</td>\n",
       "      <td>39.000000</td>\n",
       "    </tr>\n",
       "    <tr>\n",
       "      <th>All The Stars (영화 '블랙 팬서' OST)</th>\n",
       "      <td>3.0</td>\n",
       "      <td>59.000000</td>\n",
       "    </tr>\n",
       "  </tbody>\n",
       "</table>\n",
       "</div>"
      ],
      "text/plain": [
       "                                              등락         순위\n",
       "곡                                                          \n",
       "#첫사랑                                         1.0  31.666667\n",
       "Action! (Feat. GRAY)                         6.0  57.500000\n",
       "Action! (feat. GRAY)                         3.0  52.000000\n",
       "All Falls Down (Feat. Noah Cyrus, Digit ..  11.0  39.000000\n",
       "All The Stars (영화 '블랙 팬서' OST)               3.0  59.000000"
      ]
     },
     "execution_count": 38,
     "metadata": {},
     "output_type": "execute_result"
    }
   ],
   "source": [
    "pivot_result_df.head()"
   ]
  },
  {
   "cell_type": "code",
   "execution_count": 39,
   "metadata": {},
   "outputs": [
    {
     "data": {
      "text/plain": [
       "array([[1.        , 0.28622313],\n",
       "       [0.28622313, 1.        ]])"
      ]
     },
     "execution_count": 39,
     "metadata": {},
     "output_type": "execute_result"
    }
   ],
   "source": [
    "np.corrcoef(pivot_result_df['순위'], pivot_result_df['등락'])\n",
    "# 순위와 등락의 변동폭은 관계가 있다."
   ]
  },
  {
   "cell_type": "code",
   "execution_count": 40,
   "metadata": {},
   "outputs": [
    {
     "data": {
      "image/png": "[encoded data removed]",
      "text/plain": [
       "<matplotlib.figure.Figure at 0x17975ee14e0>"
      ]
     },
     "metadata": {},
     "output_type": "display_data"
    }
   ],
   "source": [
    "fp1 = np.polyfit(pivot_result_df['순위'], pivot_result_df['등락'], 1)\n",
    "\n",
    "f1 = np.poly1d(fp1) # y축 데이터 만들기(CCTV 개수 표현을 위한 데이터 축)\n",
    "fx = np.linspace(0,100,100) # x축 데이터 만들기 (인구수 표현을 위한 데이터 축)\n",
    "\n",
    "plt.figure(figsize=(10,10))\n",
    "plt.scatter(pivot_result_df['순위'], pivot_result_df['등락'], c=pivot_result_df['순위'], s=50)\n",
    "plt.plot(fx, f1(fx), ls='dashed', lw=3, color='g') # 기준 직선 그려주기\n",
    "\n",
    "plt.xlabel('순위_평균')\n",
    "plt.ylabel('등락_변동폭_평균')\n",
    "\n",
    "plt.colorbar()\n",
    "plt.grid()\n",
    "plt.show()"
   ]
  },
  {
   "cell_type": "code",
   "execution_count": null,
   "metadata": {},
   "outputs": [],
   "source": []
  }
 ],
 "metadata": {
  "kernelspec": {
   "display_name": "Python 3",
   "language": "python",
   "name": "python3"
  },
  "language_info": {
   "codemirror_mode": {
    "name": "ipython",
    "version": 3
   },
   "file_extension": ".py",
   "mimetype": "text/x-python",
   "name": "python",
   "nbconvert_exporter": "python",
   "pygments_lexer": "ipython3",
   "version": "3.6.4"
  }
 },
 "nbformat": 4,
 "nbformat_minor": 2
}
